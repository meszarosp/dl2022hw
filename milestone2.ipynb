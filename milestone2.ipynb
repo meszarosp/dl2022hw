{
 "cells": [
  {
   "cell_type": "markdown",
   "id": "informed-ghana",
   "metadata": {
    "id": "oriented-robert"
   },
   "source": [
    "# Deep Learning Homework: Waste classification\n",
    "Authors: Gergály Anna, Mészáros Péter\n",
    "\n",
    "# Downloading the datasets\n",
    "\n",
    "Insert your Kaggle API keys, to download the datasets with the Kaggle API.\n",
    "The first block sets the environment variables for the Kaggle API to work. More info about creating a Kaggle API Token can be found here: https://www.kaggle.com/docs/api.\n",
    "The second block downloads the datasets from Kaggle.\n",
    "The third block downloads a third dataset from github as a zip file, and then extracts it."
   ]
  },
  {
   "cell_type": "code",
   "execution_count": null,
   "id": "moving-threat",
   "metadata": {
    "id": "impaired-medium"
   },
   "outputs": [],
   "source": [
    "import os\n",
    "os.environ['KAGGLE_USERNAME'] = '' #insert your api token data here\n",
    "os.environ['KAGGLE_KEY'] = ''"
   ]
  },
  {
   "cell_type": "code",
   "execution_count": null,
   "id": "surrounded-shepherd",
   "metadata": {
    "colab": {
     "base_uri": "https://localhost:8080/"
    },
    "id": "fourth-container",
    "outputId": "a4e46ca0-c7f4-4a0f-d989-4262784daa04"
   },
   "outputs": [
    {
     "name": "stdout",
     "output_type": "stream",
     "text": [
      "Downloading garbage-classification.zip to ./garbage1\n"
     ]
    },
    {
     "name": "stderr",
     "output_type": "stream",
     "text": [
      "100%|██████████| 82.0M/82.0M [00:00<00:00, 210MB/s]\n"
     ]
    },
    {
     "name": "stdout",
     "output_type": "stream",
     "text": [
      "\n",
      "Downloading garbage-classification.zip to ./garbage2\n"
     ]
    },
    {
     "name": "stderr",
     "output_type": "stream",
     "text": [
      "100%|██████████| 239M/239M [00:01<00:00, 178MB/s]\n"
     ]
    },
    {
     "name": "stdout",
     "output_type": "stream",
     "text": [
      "\n"
     ]
    }
   ],
   "source": [
    "from kaggle.api.kaggle_api_extended import KaggleApi\n",
    "api = KaggleApi()\n",
    "api.authenticate()\n",
    "api.dataset_download_files('asdasdasasdas/garbage-classification', path=\"./garbage1\", quiet=True, unzip=True)\n",
    "api.dataset_download_files('mostafaabla/garbage-classification', path=\"./garbage2\", quiet=True, unzip=True)"
   ]
  },
  {
   "cell_type": "code",
   "execution_count": null,
   "id": "sharp-advance",
   "metadata": {
    "id": "protected-stream"
   },
   "outputs": [],
   "source": [
    "!pip install wget > /dev/null\n",
    "import wget\n",
    "wget.download(\"https://github.com/nikhilvenkatkumsetty/TrashBox/archive/refs/heads/main.zip\", out=\"./garbage3.zip\")"
   ]
  },
  {
   "cell_type": "code",
   "execution_count": null,
   "id": "fossil-brook",
   "metadata": {
    "id": "placed-australia"
   },
   "outputs": [],
   "source": [
    "import zipfile\n",
    "with zipfile.ZipFile(\"garbage3.zip\", mode='r') as z:\n",
    "    z.extractall(\"./garbage3\")"
   ]
  },
  {
   "cell_type": "code",
   "execution_count": null,
   "id": "healthy-reader",
   "metadata": {
    "id": "psychological-escape"
   },
   "outputs": [],
   "source": [
    "dataset1_directory='garbage1/Garbage classification/Garbage classification/'\n",
    "dataset2_directory='garbage2/garbage_classification/'\n",
    "dataset3_directory='garbage3/TrashBox-main/TrashBox_train_set'\n",
    "dataset_directories = [dataset1_directory, dataset2_directory, dataset3_directory]"
   ]
  },
  {
   "cell_type": "markdown",
   "id": "radical-browser",
   "metadata": {
    "id": "1xMNDOtD1CXA"
   },
   "source": [
    "### Google colab drive mount\n",
    "\n",
    "Instead of downloading the datasets every time when we use Colab, we download them from our own Drive."
   ]
  },
  {
   "cell_type": "code",
   "execution_count": null,
   "id": "sexual-switzerland",
   "metadata": {
    "colab": {
     "base_uri": "https://localhost:8080/"
    },
    "id": "s-v-__UY1Yqp",
    "outputId": "256f618d-b7d1-4201-81bb-312653122cb2"
   },
   "outputs": [
    {
     "name": "stdout",
     "output_type": "stream",
     "text": [
      "Mounted at /content/drive\n"
     ]
    }
   ],
   "source": [
    "from google.colab import drive\n",
    "drive.mount('/content/drive')"
   ]
  },
  {
   "cell_type": "code",
   "execution_count": null,
   "id": "removable-fundamentals",
   "metadata": {
    "id": "-dCaW6d12LX_"
   },
   "outputs": [],
   "source": [
    "!cp -r '/content/drive/My Drive/Colab Notebooks/AIT/garbage1' .\n",
    "!cp -r '/content/drive/My Drive/Colab Notebooks/AIT/garbage2' .\n",
    "!cp -r '/content/drive/My Drive/Colab Notebooks/AIT/garbage3' ."
   ]
  },
  {
   "cell_type": "markdown",
   "id": "valued-monday",
   "metadata": {
    "id": "5uQvJhGs2YDz"
   },
   "source": [
    "## Preprocessing the data"
   ]
  },
  {
   "cell_type": "markdown",
   "id": "metallic-federation",
   "metadata": {
    "id": "partial-bandwidth"
   },
   "source": [
    "Removing the last unnecessary classes from the second dataset, which can't be found in the first dataset.\n",
    "Merging white-glass, brown-glass, green-glass classes into one class, named glass."
   ]
  },
  {
   "cell_type": "code",
   "execution_count": null,
   "id": "dynamic-stuart",
   "metadata": {
    "id": "swedish-balance"
   },
   "outputs": [],
   "source": [
    "import shutil\n",
    "import os\n",
    "removable_classes=['battery','clothes', 'biological', 'shoes']\n",
    "for label in removable_classes:\n",
    "    shutil.rmtree(os.path.join(dataset2_directory,label))\n",
    "os.rename('garbage2/garbage_classification/brown-glass', 'garbage2/garbage_classification/glass')\n",
    "glasses = [os.path.join(dataset2_directory,'white-glass'), os.path.join(dataset2_directory,'green-glass')]\n",
    "for glass_directory_name in glasses:\n",
    "    for filename in os.listdir(glass_directory_name):\n",
    "        shutil.move(os.path.join(glass_directory_name, filename), os.path.join('garbage2/garbage_classification/glass', filename))\n",
    "    os.rmdir(glass_directory_name)"
   ]
  },
  {
   "cell_type": "markdown",
   "id": "indoor-warner",
   "metadata": {
    "id": "noted-fault"
   },
   "source": [
    "Adding the extra classes to the first and second datasets (e-waste and medical) and adding trash to the third dataset."
   ]
  },
  {
   "cell_type": "code",
   "execution_count": null,
   "id": "collected-gathering",
   "metadata": {
    "id": "painted-sympathy"
   },
   "outputs": [],
   "source": [
    "os.mkdir(os.path.join(dataset1_directory, 'medical'))\n",
    "os.mkdir(os.path.join(dataset2_directory, 'e-waste'))\n",
    "os.mkdir(os.path.join(dataset2_directory, 'medical'))\n",
    "os.mkdir(os.path.join(dataset3_directory, 'trash'))"
   ]
  },
  {
   "cell_type": "markdown",
   "id": "clean-sport",
   "metadata": {
    "id": "SMEn3Ym7FMKY"
   },
   "source": [
    "A few images had problems, we had to delete them."
   ]
  },
  {
   "cell_type": "code",
   "execution_count": null,
   "id": "innocent-seeking",
   "metadata": {
    "id": "bBQzkKjkFLpv"
   },
   "outputs": [],
   "source": [
    "images_to_delete = ['garbage3/TrashBox-main/TrashBox_train_set/cardboard/cardboard 1094.jpg',\n",
    "'garbage3/TrashBox-main/TrashBox_train_set/cardboard/cardboard 1075.jpg',\n",
    "'garbage3/TrashBox-main/TrashBox_train_set/cardboard/cardboard 2076.jpg',\n",
    "'garbage3/TrashBox-main/TrashBox_train_set/metal/metal 2008.jpg',\n",
    "'garbage3/TrashBox-main/TrashBox_train_set/metal/metal 1772.jpg',\n",
    "'garbage3/TrashBox-main/TrashBox_train_set/e-waste/e-waste 1719.jpg',\n",
    "'garbage3/TrashBox-main/TrashBox_train_set/e-waste/e-waste 1607.jpg',\n",
    "'garbage3/TrashBox-main/TrashBox_train_set/e-waste/e-waste 1483.jpg',\n",
    "'garbage3/TrashBox-main/TrashBox_train_set/e-waste/e-waste 1585.jpg',\n",
    "'garbage3/TrashBox-main/TrashBox_train_set/medical/medical 1858.jpg',\n",
    "'garbage3/TrashBox-main/TrashBox_train_set/medical/medical 1385.jpg',\n",
    "'garbage3/TrashBox-main/TrashBox_train_set/glass/glass 1160.jpg',\n",
    "'garbage3/TrashBox-main/TrashBox_train_set/glass/glass 1662.jpg',\n",
    "'garbage3/TrashBox-main/TrashBox_train_set/glass/glass 2388.jpg',\n",
    "'garbage3/TrashBox-main/TrashBox_train_set/glass/glass 1564.jpg',\n",
    "'garbage3/TrashBox-main/TrashBox_train_set/glass/glass 1845.jpg',\n",
    "'garbage3/TrashBox-main/TrashBox_train_set/paper/paper 943.jpg',\n",
    "'garbage3/TrashBox-main/TrashBox_train_set/paper/paper 2273.jpg',\n",
    "'garbage3/TrashBox-main/TrashBox_train_set/paper/paper 942.jpg',\n",
    "'garbage3/TrashBox-main/TrashBox_train_set/paper/paper 1001.jpg',\n",
    "'garbage3/TrashBox-main/TrashBox_train_set/paper/paper 1919.jpg']\n",
    "for image in images_to_delete:\n",
    "  os.remove(image)"
   ]
  },
  {
   "cell_type": "markdown",
   "id": "anticipated-donor",
   "metadata": {
    "id": "f_OQ3ggWUdps"
   },
   "source": [
    "Many images from the third dataset were in a bad format, Tensorflow couldn't read them. The images are converted to the correct format with opencv.\n"
   ]
  },
  {
   "cell_type": "code",
   "execution_count": null,
   "id": "noble-saint",
   "metadata": {
    "colab": {
     "base_uri": "https://localhost:8080/"
    },
    "id": "O448CmZhD8Wb",
    "outputId": "8320f604-7ed0-41ba-f3a7-5f8224e2cdc9"
   },
   "outputs": [
    {
     "name": "stdout",
     "output_type": "stream",
     "text": [
      "processing class directory  paper\n",
      "processing class directory  medical\n",
      "processing class directory  cardboard\n",
      "processing class directory  glass\n",
      "processing class directory  metal\n",
      "processing class directory  plastic\n",
      "processing class directory  trash\n",
      "processing class directory  e-waste\n",
      "no bad images were found\n"
     ]
    }
   ],
   "source": [
    "import os\n",
    "import cv2\n",
    "def check_images(directory):\n",
    "    bad_images=[]\n",
    "    class_list= os.listdir(directory)\n",
    "    for image_class in class_list:\n",
    "        class_path=os.path.join (directory, image_class)\n",
    "        print ('processing class directory ', image_class)\n",
    "        if os.path.isdir(class_path):\n",
    "            file_list=os.listdir(class_path)\n",
    "            for file in file_list:               \n",
    "                file_path=os.path.join (class_path,file)\n",
    "                if os.path.isfile(file_path):\n",
    "                    try:\n",
    "                        img=cv2.imread(file_path)\n",
    "                        shape=img.shape\n",
    "                        cv2.imwrite(file_path, img)\n",
    "                    except:\n",
    "                        bad_images.append(file_path)\n",
    "    return bad_images\n",
    "\n",
    "source_dir = dataset3_directory\n",
    "bad_file_list=check_images(source_dir)\n",
    "if len(bad_file_list) !=0:\n",
    "    print('bad images:')\n",
    "    for i in range (len(bad_file_list)):\n",
    "        print (bad_file_list[i])\n",
    "else:\n",
    "    print('no bad images were found')\n",
    "for bad_image in bad_file_list:\n",
    "    os.remove(bad_image)"
   ]
  },
  {
   "cell_type": "markdown",
   "id": "serial-dealing",
   "metadata": {
    "id": "strategic-concert"
   },
   "source": [
    "## Reading the datasets\n",
    "Importing libraries and setting hyperparameter variables.\n",
    "The datasets are split for training, validation and test in a 4:1:1 ratio."
   ]
  },
  {
   "cell_type": "code",
   "execution_count": null,
   "id": "rising-atlas",
   "metadata": {
    "id": "documented-halloween"
   },
   "outputs": [],
   "source": [
    "import tensorflow.keras as keras\n",
    "from tensorflow.keras.preprocessing import image as image_utils\n",
    "import tensorflow as tf\n",
    "import numpy as np\n",
    "\n",
    "class_names=['glass', 'paper', 'cardboard', 'trash', 'metal', 'plastic', 'e-waste', 'medical']\n",
    "image_size=(256, 256)\n",
    "validation_split=1/6\n",
    "seed=111\n",
    "batch_size=32"
   ]
  },
  {
   "cell_type": "code",
   "execution_count": null,
   "id": "worth-topic",
   "metadata": {
    "colab": {
     "base_uri": "https://localhost:8080/"
    },
    "id": "infrared-backup",
    "outputId": "0d042a73-af28-4d02-faf0-42fb2538bb97"
   },
   "outputs": [
    {
     "name": "stdout",
     "output_type": "stream",
     "text": [
      "Found 2544 files belonging to 8 classes.\n",
      "Using 2120 files for training.\n",
      "Found 2544 files belonging to 8 classes.\n",
      "Using 424 files for validation.\n",
      "Found 6283 files belonging to 8 classes.\n",
      "Using 5236 files for training.\n",
      "Found 6283 files belonging to 8 classes.\n",
      "Using 1047 files for validation.\n",
      "Found 14324 files belonging to 8 classes.\n",
      "Using 11937 files for training.\n",
      "Found 14324 files belonging to 8 classes.\n",
      "Using 2387 files for validation.\n"
     ]
    }
   ],
   "source": [
    "train_ = []\n",
    "val_ = []\n",
    "for i in range(3):\n",
    "    train_.append(keras.utils.image_dataset_from_directory(\n",
    "    dataset_directories[i],\n",
    "    labels='inferred',\n",
    "    label_mode='categorical',\n",
    "    batch_size=batch_size,\n",
    "    image_size=image_size,\n",
    "    validation_split=validation_split,\n",
    "    seed=seed,\n",
    "    subset='training'\n",
    "    ))\n",
    "    val_.append(keras.utils.image_dataset_from_directory(\n",
    "    dataset_directories[i],\n",
    "    labels='inferred',\n",
    "    label_mode='categorical',\n",
    "    batch_size=batch_size,\n",
    "    image_size=image_size,\n",
    "    validation_split=validation_split,\n",
    "    seed=seed,\n",
    "    subset='validation'\n",
    "    ))"
   ]
  },
  {
   "cell_type": "markdown",
   "id": "breeding-prescription",
   "metadata": {
    "id": "marked-virgin"
   },
   "source": [
    "Normalizing the images, and concatenating the datasets."
   ]
  },
  {
   "cell_type": "code",
   "execution_count": null,
   "id": "biological-parent",
   "metadata": {
    "id": "cutting-triumph"
   },
   "outputs": [],
   "source": [
    "normalization_layer = tf.keras.layers.Rescaling(1./255)\n",
    "for i in range(3):\n",
    "    train_[i] = train_[i].map(lambda x, y: (normalization_layer(x), y))\n",
    "    val_[i] = val_[i].map(lambda x, y: (normalization_layer(x), y))"
   ]
  },
  {
   "cell_type": "code",
   "execution_count": null,
   "id": "certified-services",
   "metadata": {
    "id": "antique-telescope"
   },
   "outputs": [],
   "source": [
    "full = train_[0].concatenate(train_[1]).concatenate(train_[2]) #training and test X and Y\n",
    "val = val_[0].concatenate(val_[1]).concatenate(val_[2]) #validation X and Y"
   ]
  },
  {
   "cell_type": "markdown",
   "id": "handed-cotton",
   "metadata": {
    "id": "_CCuCsbV37p-"
   },
   "source": [
    "This way the datasets are one after another, which would cause us problems (the test set not including every class), so we shuffle them using sample from dataset."
   ]
  },
  {
   "cell_type": "code",
   "execution_count": null,
   "id": "sticky-tribune",
   "metadata": {
    "id": "0bSf1AYfLkYC"
   },
   "outputs": [],
   "source": [
    "#sum_cardinality = train_[0].cardinality().numpy()+train_[1].cardinality().numpy()+train_[2].cardinality().numpy()\n",
    "#weights = [train_[0].cardinality().numpy()/sum_cardinality,\n",
    "           train_[1].cardinality().numpy()/sum_cardinality,\n",
    "           train_[2].cardinality().numpy()/sum_cardinality]"
   ]
  },
  {
   "cell_type": "code",
   "execution_count": null,
   "id": "discrete-workshop",
   "metadata": {
    "id": "yVheO8qyL_uB"
   },
   "outputs": [],
   "source": [
    "#from tensorflow.data.Dataset import sample_from_datasets\n",
    "#full = sample_from_datasets(\n",
    "#    [train_[0], train_[1], train_[2]], weights\n",
    "#)"
   ]
  },
  {
   "cell_type": "code",
   "execution_count": null,
   "id": "ultimate-burke",
   "metadata": {
    "id": "j4FZArZhRmEU"
   },
   "outputs": [],
   "source": [
    "test = full.skip(full.cardinality().numpy()*4/5) #splitting test from train\n",
    "train = full.take(full.cardinality().numpy()*4/5)"
   ]
  },
  {
   "cell_type": "markdown",
   "id": "naval-restaurant",
   "metadata": {
    "id": "improved-access"
   },
   "source": [
    "## Traning the model\n",
    "### First model: EffientNetB5"
   ]
  },
  {
   "cell_type": "markdown",
   "id": "fatty-moses",
   "metadata": {
    "id": "PHhlUKeT5Vjl"
   },
   "source": [
    "We chose a medium sized EfficientNet trained on image net as our first model, to ensure that it trains at a reasonable pace and also yields acceptable results. We rescaled the inputs to the range EfficientNet expects them in and added a GlobalAveragePooling layer and a Dense layer with 8 nodes to serve as our output layer. We chose a softmax activation function to go with our classification problem."
   ]
  },
  {
   "cell_type": "code",
   "execution_count": null,
   "id": "specialized-resolution",
   "metadata": {
    "id": "lDM2DqnJrUZO"
   },
   "outputs": [],
   "source": [
    "from tensorflow.keras.applications.efficientnet import EfficientNetB5\n",
    "from tensorflow.keras.layers import Rescaling, GlobalAveragePooling2D, Dense\n",
    "from tensorflow.keras.models import Sequential"
   ]
  },
  {
   "cell_type": "code",
   "execution_count": null,
   "id": "tender-signature",
   "metadata": {
    "colab": {
     "base_uri": "https://localhost:8080/"
    },
    "id": "occasional-homeless",
    "outputId": "1e54dfb0-7ca3-4726-94a2-9ac305eca982"
   },
   "outputs": [
    {
     "name": "stdout",
     "output_type": "stream",
     "text": [
      "Model: \"model\"\n",
      "_________________________________________________________________\n",
      " Layer (type)                Output Shape              Param #   \n",
      "=================================================================\n",
      " input_2 (InputLayer)        [(None, 256, 256, 3)]     0         \n",
      "                                                                 \n",
      " rescaling_1 (Rescaling)     (None, 256, 256, 3)       0         \n",
      "                                                                 \n",
      " efficientnetb5 (Functional)  (None, 8, 8, 2048)       28513527  \n",
      "                                                                 \n",
      " global_average_pooling2d (G  (None, 2048)             0         \n",
      " lobalAveragePooling2D)                                          \n",
      "                                                                 \n",
      " dense (Dense)               (None, 8)                 16392     \n",
      "                                                                 \n",
      "=================================================================\n",
      "Total params: 28,529,919\n",
      "Trainable params: 16,392\n",
      "Non-trainable params: 28,513,527\n",
      "_________________________________________________________________\n"
     ]
    }
   ],
   "source": [
    "base_model1 = EfficientNetB5(include_top = False, weights=\"imagenet\", input_shape=(256, 256, 3))\n",
    "base_model1.trainable = False\n",
    "scale_layer = Rescaling(scale=255)\n",
    "inputs = keras.Input(shape=(256, 256, 3))\n",
    "x = scale_layer(inputs)\n",
    "x = base_model1(x, training=False)\n",
    "x = GlobalAveragePooling2D()(x)\n",
    "x = Dense(8, activation='softmax')(x)\n",
    "model1 = keras.Model(inputs, x)\n",
    "model1.summary()"
   ]
  },
  {
   "cell_type": "code",
   "execution_count": null,
   "id": "confidential-arkansas",
   "metadata": {
    "id": "pjXHXOHZvWCO"
   },
   "outputs": [],
   "source": [
    "model1.compile(optimizer='Adam', loss='categorical_crossentropy', metrics=['accuracy'])"
   ]
  },
  {
   "cell_type": "code",
   "execution_count": null,
   "id": "intermediate-traveler",
   "metadata": {
    "id": "BDLOUGUKbU_T"
   },
   "outputs": [],
   "source": [
    "from tensorflow.keras.callbacks import EarlyStopping\n",
    "es = EarlyStopping(monitor='val_accuracy', patience=5, restore_best_weights=True)"
   ]
  },
  {
   "cell_type": "code",
   "execution_count": null,
   "id": "appointed-group",
   "metadata": {
    "colab": {
     "base_uri": "https://localhost:8080/"
    },
    "id": "0V8Aat-evCv-",
    "outputId": "5835867c-2e4f-4cc5-999b-45b99f6c57e7"
   },
   "outputs": [
    {
     "name": "stdout",
     "output_type": "stream",
     "text": [
      "Epoch 1/50\n",
      "465/465 [==============================] - 395s 772ms/step - loss: 0.5793 - accuracy: 0.8247 - val_loss: 0.5859 - val_accuracy: 0.8204\n",
      "Epoch 2/50\n",
      "465/465 [==============================] - 356s 751ms/step - loss: 0.3669 - accuracy: 0.8825 - val_loss: 0.5085 - val_accuracy: 0.8433\n",
      "Epoch 3/50\n",
      "465/465 [==============================] - 355s 750ms/step - loss: 0.3080 - accuracy: 0.9038 - val_loss: 0.4783 - val_accuracy: 0.8550\n",
      "Epoch 4/50\n",
      "465/465 [==============================] - 356s 750ms/step - loss: 0.2721 - accuracy: 0.9151 - val_loss: 0.4632 - val_accuracy: 0.8593\n",
      "Epoch 5/50\n",
      "465/465 [==============================] - 356s 750ms/step - loss: 0.2462 - accuracy: 0.9244 - val_loss: 0.4546 - val_accuracy: 0.8647\n",
      "Epoch 6/50\n",
      "465/465 [==============================] - 355s 749ms/step - loss: 0.2244 - accuracy: 0.9304 - val_loss: 0.4506 - val_accuracy: 0.8682\n",
      "Epoch 7/50\n",
      "465/465 [==============================] - 354s 748ms/step - loss: 0.2068 - accuracy: 0.9375 - val_loss: 0.4481 - val_accuracy: 0.8691\n",
      "Epoch 8/50\n",
      "465/465 [==============================] - 354s 748ms/step - loss: 0.1922 - accuracy: 0.9428 - val_loss: 0.4433 - val_accuracy: 0.8714\n",
      "Epoch 9/50\n",
      "465/465 [==============================] - 355s 748ms/step - loss: 0.1783 - accuracy: 0.9487 - val_loss: 0.4407 - val_accuracy: 0.8734\n",
      "Epoch 10/50\n",
      "465/465 [==============================] - 355s 749ms/step - loss: 0.1663 - accuracy: 0.9530 - val_loss: 0.4436 - val_accuracy: 0.8749\n",
      "Epoch 11/50\n",
      "465/465 [==============================] - 354s 748ms/step - loss: 0.1567 - accuracy: 0.9574 - val_loss: 0.4426 - val_accuracy: 0.8745\n",
      "Epoch 12/50\n",
      "465/465 [==============================] - 355s 749ms/step - loss: 0.1458 - accuracy: 0.9601 - val_loss: 0.4452 - val_accuracy: 0.8758\n",
      "Epoch 13/50\n",
      "465/465 [==============================] - 356s 751ms/step - loss: 0.1383 - accuracy: 0.9640 - val_loss: 0.4466 - val_accuracy: 0.8758\n",
      "Epoch 14/50\n",
      "465/465 [==============================] - 357s 752ms/step - loss: 0.1308 - accuracy: 0.9665 - val_loss: 0.4470 - val_accuracy: 0.8764\n",
      "Epoch 15/50\n",
      "465/465 [==============================] - 357s 753ms/step - loss: 0.1238 - accuracy: 0.9688 - val_loss: 0.4495 - val_accuracy: 0.8768\n",
      "Epoch 16/50\n",
      "465/465 [==============================] - 357s 752ms/step - loss: 0.1158 - accuracy: 0.9718 - val_loss: 0.4528 - val_accuracy: 0.8749\n",
      "Epoch 17/50\n",
      "465/465 [==============================] - 356s 751ms/step - loss: 0.1103 - accuracy: 0.9742 - val_loss: 0.4561 - val_accuracy: 0.8760\n",
      "Epoch 18/50\n",
      "465/465 [==============================] - 356s 750ms/step - loss: 0.1051 - accuracy: 0.9754 - val_loss: 0.4558 - val_accuracy: 0.8773\n",
      "Epoch 19/50\n",
      "465/465 [==============================] - 355s 750ms/step - loss: 0.1000 - accuracy: 0.9775 - val_loss: 0.4614 - val_accuracy: 0.8773\n",
      "Epoch 20/50\n",
      "465/465 [==============================] - 356s 751ms/step - loss: 0.0945 - accuracy: 0.9799 - val_loss: 0.4629 - val_accuracy: 0.8768\n",
      "Epoch 21/50\n",
      "465/465 [==============================] - 357s 753ms/step - loss: 0.0900 - accuracy: 0.9817 - val_loss: 0.4652 - val_accuracy: 0.8783\n",
      "Epoch 22/50\n",
      "465/465 [==============================] - 357s 753ms/step - loss: 0.0865 - accuracy: 0.9822 - val_loss: 0.4685 - val_accuracy: 0.8794\n",
      "Epoch 23/50\n",
      "465/465 [==============================] - 357s 752ms/step - loss: 0.0823 - accuracy: 0.9843 - val_loss: 0.4709 - val_accuracy: 0.8790\n",
      "Epoch 24/50\n",
      "465/465 [==============================] - 356s 751ms/step - loss: 0.0787 - accuracy: 0.9853 - val_loss: 0.4728 - val_accuracy: 0.8794\n",
      "Epoch 25/50\n",
      "465/465 [==============================] - 356s 752ms/step - loss: 0.0747 - accuracy: 0.9868 - val_loss: 0.4773 - val_accuracy: 0.8803\n",
      "Epoch 26/50\n",
      "465/465 [==============================] - 356s 751ms/step - loss: 0.0712 - accuracy: 0.9872 - val_loss: 0.4801 - val_accuracy: 0.8803\n",
      "Epoch 27/50\n",
      "465/465 [==============================] - 356s 751ms/step - loss: 0.0679 - accuracy: 0.9886 - val_loss: 0.4816 - val_accuracy: 0.8803\n",
      "Epoch 28/50\n",
      "465/465 [==============================] - 355s 750ms/step - loss: 0.0654 - accuracy: 0.9896 - val_loss: 0.4840 - val_accuracy: 0.8805\n",
      "Epoch 29/50\n",
      "465/465 [==============================] - 355s 750ms/step - loss: 0.0627 - accuracy: 0.9905 - val_loss: 0.4897 - val_accuracy: 0.8803\n",
      "Epoch 30/50\n",
      "465/465 [==============================] - 356s 752ms/step - loss: 0.0601 - accuracy: 0.9912 - val_loss: 0.4953 - val_accuracy: 0.8794\n",
      "Epoch 31/50\n",
      "465/465 [==============================] - 357s 752ms/step - loss: 0.0580 - accuracy: 0.9912 - val_loss: 0.4941 - val_accuracy: 0.8822\n",
      "Epoch 32/50\n",
      "465/465 [==============================] - 356s 750ms/step - loss: 0.0552 - accuracy: 0.9916 - val_loss: 0.5011 - val_accuracy: 0.8794\n",
      "Epoch 33/50\n",
      "465/465 [==============================] - 355s 749ms/step - loss: 0.0529 - accuracy: 0.9935 - val_loss: 0.5041 - val_accuracy: 0.8790\n",
      "Epoch 34/50\n",
      "465/465 [==============================] - 355s 749ms/step - loss: 0.0500 - accuracy: 0.9933 - val_loss: 0.5078 - val_accuracy: 0.8799\n",
      "Epoch 35/50\n",
      "465/465 [==============================] - 356s 751ms/step - loss: 0.0476 - accuracy: 0.9941 - val_loss: 0.5122 - val_accuracy: 0.8794\n",
      "Epoch 36/50\n",
      "465/465 [==============================] - 357s 753ms/step - loss: 0.0462 - accuracy: 0.9943 - val_loss: 0.5175 - val_accuracy: 0.8794\n"
     ]
    },
    {
     "data": {
      "text/plain": [
       "<keras.callbacks.History at 0x7fb5352edf90>"
      ]
     },
     "execution_count": 60,
     "metadata": {},
     "output_type": "execute_result"
    }
   ],
   "source": [
    "model1.fit(train, validation_data=val, epochs=50, callbacks=[es])"
   ]
  },
  {
   "cell_type": "code",
   "execution_count": null,
   "id": "asian-saying",
   "metadata": {
    "id": "xg6oi1qTS53P"
   },
   "outputs": [],
   "source": [
    "model1.save_weights('./checkpoints/my_checkpoint') #to save the weights from Colab"
   ]
  },
  {
   "cell_type": "code",
   "execution_count": null,
   "id": "concerned-router",
   "metadata": {
    "colab": {
     "base_uri": "https://localhost:8080/"
    },
    "id": "Ulbp-vYk7q5x",
    "outputId": "e5a9b6a6-3368-41f0-e7f1-e72e820978e3"
   },
   "outputs": [
    {
     "data": {
      "text/plain": [
       "<tensorflow.python.training.tracking.util.CheckpointLoadStatus at 0x7fd29cda2c10>"
      ]
     },
     "execution_count": 18,
     "metadata": {},
     "output_type": "execute_result"
    }
   ],
   "source": [
    "model1.load_weights('./checkpoints/my_checkpoint')"
   ]
  },
  {
   "cell_type": "markdown",
   "id": "personalized-glenn",
   "metadata": {
    "id": "umabk7_58x2L"
   },
   "source": [
    "We use our previously split test data to evaluate the model."
   ]
  },
  {
   "cell_type": "code",
   "execution_count": null,
   "id": "split-organizer",
   "metadata": {
    "colab": {
     "base_uri": "https://localhost:8080/"
    },
    "id": "_nMAF3HBUk6N",
    "outputId": "6a50632e-7d8a-4396-bfd5-520a93b7575c"
   },
   "outputs": [
    {
     "name": "stdout",
     "output_type": "stream",
     "text": [
      "121/121 [==============================] - 80s 592ms/step - loss: 0.0548 - accuracy: 0.9915\n"
     ]
    },
    {
     "data": {
      "text/plain": [
       "[0.05476154759526253, 0.9914772510528564]"
      ]
     },
     "execution_count": 19,
     "metadata": {},
     "output_type": "execute_result"
    }
   ],
   "source": [
    "model1.evaluate(test)"
   ]
  },
  {
   "cell_type": "markdown",
   "id": "assisted-plate",
   "metadata": {
    "id": "slf7z7AN8fOd"
   },
   "source": [
    "We extract our test set's labels and prepare our model's predictions for this set to create a confusion matrix visualization of the results."
   ]
  },
  {
   "cell_type": "code",
   "execution_count": null,
   "id": "minor-syndication",
   "metadata": {
    "id": "TGsZdEfZC23N"
   },
   "outputs": [],
   "source": [
    "labels = np.argmax(np.concatenate([label for image, label in test], axis=0), axis=1)"
   ]
  },
  {
   "cell_type": "code",
   "execution_count": null,
   "id": "liked-candy",
   "metadata": {
    "id": "wsKR-gnYDduU"
   },
   "outputs": [],
   "source": [
    "preds = model1.predict(test)"
   ]
  },
  {
   "cell_type": "code",
   "execution_count": null,
   "id": "inclusive-drunk",
   "metadata": {
    "id": "Yb3bSWILBV33"
   },
   "outputs": [],
   "source": [
    "import numpy as np\n",
    "from sklearn.metrics import confusion_matrix\n",
    "\n",
    "prediction = np.argmax(preds, axis=1)\n",
    "\n",
    "conf=confusion_matrix(labels, prediction)"
   ]
  },
  {
   "cell_type": "code",
   "execution_count": null,
   "id": "speaking-newman",
   "metadata": {
    "colab": {
     "base_uri": "https://localhost:8080/",
     "height": 279
    },
    "id": "Q5Z07PNyEgZI",
    "outputId": "abe8f4f6-64f9-4587-e5cf-5e7b34591b30"
   },
   "outputs": [
    {
     "data": {
      "image/png": "[encoded data removed]",
      "text/plain": [
       "<Figure size 432x288 with 2 Axes>"
      ]
     },
     "metadata": {
      "needs_background": "light"
     },
     "output_type": "display_data"
    }
   ],
   "source": [
    "import seaborn as sns\n",
    "ax = sns.heatmap(conf, annot=True, fmt='d', cmap='Blues') \n",
    "ax.set(xlabel='Predicted Label',\n",
    "       ylabel='True label');"
   ]
  },
  {
   "cell_type": "markdown",
   "id": "greek-commons",
   "metadata": {
    "id": "r-FfQsjhNHan"
   },
   "source": [
    "## Second model: own model"
   ]
  },
  {
   "cell_type": "markdown",
   "id": "sorted-postage",
   "metadata": {
    "id": "mOyXPdd889Ei"
   },
   "source": [
    "For our second model, we decided to create our own. We added 8 convolutional layers with dropout, max and average pooling inbetween and finished it off with 3 dense layers with relu activation and HeNormal initialization and an output layer the same as our last model's. We plan on refining this model for our finished assignment to achieve better results."
   ]
  },
  {
   "cell_type": "code",
   "execution_count": null,
   "id": "exciting-roller",
   "metadata": {
    "colab": {
     "base_uri": "https://localhost:8080/"
    },
    "id": "hS9ZdQsYXpFG",
    "outputId": "1d6f8a83-b7db-4108-851e-ff0f28de1df6"
   },
   "outputs": [
    {
     "name": "stdout",
     "output_type": "stream",
     "text": [
      "Model: \"sequential_1\"\n",
      "_________________________________________________________________\n",
      " Layer (type)                Output Shape              Param #   \n",
      "=================================================================\n",
      " conv2d_8 (Conv2D)           (None, 256, 256, 10)      760       \n",
      "                                                                 \n",
      " conv2d_9 (Conv2D)           (None, 256, 256, 10)      2510      \n",
      "                                                                 \n",
      " max_pooling2d_2 (MaxPooling  (None, 128, 128, 10)     0         \n",
      " 2D)                                                             \n",
      "                                                                 \n",
      " dropout_3 (Dropout)         (None, 128, 128, 10)      0         \n",
      "                                                                 \n",
      " conv2d_10 (Conv2D)          (None, 128, 128, 10)      910       \n",
      "                                                                 \n",
      " conv2d_11 (Conv2D)          (None, 128, 128, 10)      910       \n",
      "                                                                 \n",
      " max_pooling2d_3 (MaxPooling  (None, 64, 64, 10)       0         \n",
      " 2D)                                                             \n",
      "                                                                 \n",
      " dropout_4 (Dropout)         (None, 64, 64, 10)        0         \n",
      "                                                                 \n",
      " conv2d_12 (Conv2D)          (None, 64, 64, 5)         455       \n",
      "                                                                 \n",
      " conv2d_13 (Conv2D)          (None, 64, 64, 5)         230       \n",
      "                                                                 \n",
      " average_pooling2d_2 (Averag  (None, 32, 32, 5)        0         \n",
      " ePooling2D)                                                     \n",
      "                                                                 \n",
      " dropout_5 (Dropout)         (None, 32, 32, 5)         0         \n",
      "                                                                 \n",
      " conv2d_14 (Conv2D)          (None, 32, 32, 5)         230       \n",
      "                                                                 \n",
      " conv2d_15 (Conv2D)          (None, 32, 32, 5)         230       \n",
      "                                                                 \n",
      " average_pooling2d_3 (Averag  (None, 16, 16, 5)        0         \n",
      " ePooling2D)                                                     \n",
      "                                                                 \n",
      " flatten_1 (Flatten)         (None, 1280)              0         \n",
      "                                                                 \n",
      " dense_5 (Dense)             (None, 1000)              1281000   \n",
      "                                                                 \n",
      " dense_6 (Dense)             (None, 1000)              1001000   \n",
      "                                                                 \n",
      " dense_7 (Dense)             (None, 1000)              1001000   \n",
      "                                                                 \n",
      " dense_8 (Dense)             (None, 8)                 8008      \n",
      "                                                                 \n",
      "=================================================================\n",
      "Total params: 3,297,243\n",
      "Trainable params: 3,297,243\n",
      "Non-trainable params: 0\n",
      "_________________________________________________________________\n"
     ]
    }
   ],
   "source": [
    "from tensorflow.keras.models import Sequential\n",
    "from tensorflow.keras.layers import Conv2D, AveragePooling2D, GlobalAveragePooling2D, MaxPool2D, Dropout, Flatten\n",
    "from tensorflow.keras.initializers import Constant\n",
    "\n",
    "bias_initializer = Constant(0.1)\n",
    "\n",
    "model2 = Sequential()\n",
    "model2.add(Conv2D(filters=10, kernel_size=(5,5),padding=\"same\", input_shape=(256, 256, 3), kernel_initializer='HeNormal', bias_initializer=bias_initializer))\n",
    "model2.add(Conv2D(filters=10, kernel_size=(5,5),padding=\"same\", kernel_initializer='HeNormal', bias_initializer=bias_initializer))\n",
    "model2.add(MaxPool2D())\n",
    "model2.add(Dropout(rate=0.1))\n",
    "model2.add(Conv2D(filters=10, kernel_size=(3,3),padding=\"same\", kernel_initializer='HeNormal', bias_initializer=bias_initializer))\n",
    "model2.add(Conv2D(filters=10, kernel_size=(3,3),padding=\"same\", activation='relu', kernel_initializer='HeNormal', bias_initializer=bias_initializer))\n",
    "model2.add(MaxPool2D())\n",
    "model2.add(Dropout(rate=0.1))\n",
    "model2.add(Conv2D(filters=5, kernel_size=(3,3),padding=\"same\", kernel_initializer='HeNormal', bias_initializer=bias_initializer))\n",
    "model2.add(Conv2D(filters=5, kernel_size=(3,3),padding=\"same\", kernel_initializer='HeNormal', bias_initializer=bias_initializer))\n",
    "model2.add(AveragePooling2D())\n",
    "model2.add(Dropout(rate=0.1))\n",
    "model2.add(Conv2D(filters=5, kernel_size=(3,3),padding=\"same\", kernel_initializer='HeNormal', bias_initializer=bias_initializer))\n",
    "model2.add(Conv2D(filters=5, kernel_size=(3,3),padding=\"same\", kernel_initializer='HeNormal', bias_initializer=bias_initializer))\n",
    "model2.add(AveragePooling2D())\n",
    "model2.add(Flatten())\n",
    "model2.add(Dense(1000, activation='relu', kernel_initializer='HeNormal', bias_initializer=bias_initializer))\n",
    "model2.add(Dense(1000, activation='relu', kernel_initializer='HeNormal', bias_initializer=bias_initializer))\n",
    "model2.add(Dense(1000, activation='relu', kernel_initializer='HeNormal', bias_initializer=bias_initializer))\n",
    "model2.add(Dense(8, activation='softmax'))\n",
    "\n",
    "model2.compile(optimizer='Adam', loss='categorical_crossentropy', metrics=['accuracy'])\n",
    "model2.summary()"
   ]
  },
  {
   "cell_type": "code",
   "execution_count": null,
   "id": "lovely-earthquake",
   "metadata": {
    "id": "rU-pEaHWP5bY"
   },
   "outputs": [],
   "source": [
    "from tensorflow.keras.callbacks import EarlyStopping\n",
    "es = EarlyStopping(monitor='val_loss', patience=8, restore_best_weights=True)"
   ]
  },
  {
   "cell_type": "code",
   "execution_count": null,
   "id": "unable-cancer",
   "metadata": {
    "colab": {
     "base_uri": "https://localhost:8080/"
    },
    "id": "CHbu0CjYfs5n",
    "outputId": "62c4445b-43c7-4ba0-b606-f571705079a0"
   },
   "outputs": [
    {
     "name": "stdout",
     "output_type": "stream",
     "text": [
      "Epoch 1/20\n",
      "484/484 [==============================] - 115s 236ms/step - loss: 1.5762 - accuracy: 0.3855 - val_loss: 1.9600 - val_accuracy: 0.2665\n",
      "Epoch 2/20\n",
      "484/484 [==============================] - 113s 232ms/step - loss: 1.4293 - accuracy: 0.4519 - val_loss: 1.8781 - val_accuracy: 0.3230\n",
      "Epoch 3/20\n",
      "484/484 [==============================] - 113s 232ms/step - loss: 1.2740 - accuracy: 0.5241 - val_loss: 1.7519 - val_accuracy: 0.3717\n",
      "Epoch 4/20\n",
      "484/484 [==============================] - 113s 232ms/step - loss: 1.0591 - accuracy: 0.6190 - val_loss: 1.8122 - val_accuracy: 0.4025\n",
      "Epoch 5/20\n",
      "484/484 [==============================] - 113s 232ms/step - loss: 0.8210 - accuracy: 0.7089 - val_loss: 1.9400 - val_accuracy: 0.4093\n",
      "Epoch 6/20\n",
      "484/484 [==============================] - 113s 232ms/step - loss: 0.6365 - accuracy: 0.7813 - val_loss: 2.1938 - val_accuracy: 0.4023\n",
      "Epoch 7/20\n",
      "484/484 [==============================] - 112s 230ms/step - loss: 0.5075 - accuracy: 0.8255 - val_loss: 2.1272 - val_accuracy: 0.4381\n",
      "Epoch 8/20\n",
      "484/484 [==============================] - 112s 230ms/step - loss: 0.4176 - accuracy: 0.8590 - val_loss: 2.4432 - val_accuracy: 0.4450\n",
      "Epoch 9/20\n",
      "484/484 [==============================] - 112s 230ms/step - loss: 0.3147 - accuracy: 0.8972 - val_loss: 2.5929 - val_accuracy: 0.4399\n",
      "Epoch 10/20\n",
      "484/484 [==============================] - 113s 232ms/step - loss: 0.2679 - accuracy: 0.9139 - val_loss: 2.4834 - val_accuracy: 0.4598\n",
      "Epoch 11/20\n",
      "484/484 [==============================] - 112s 232ms/step - loss: 0.2572 - accuracy: 0.9145 - val_loss: 2.3527 - val_accuracy: 0.4533\n"
     ]
    },
    {
     "data": {
      "text/plain": [
       "<keras.callbacks.History at 0x7fd229720510>"
      ]
     },
     "execution_count": 52,
     "metadata": {},
     "output_type": "execute_result"
    }
   ],
   "source": [
    "model2.fit(train, validation_data=val, epochs=20, callbacks=[es])"
   ]
  },
  {
   "cell_type": "code",
   "execution_count": null,
   "id": "suited-civilization",
   "metadata": {
    "id": "fRPTGLovn39R"
   },
   "outputs": [],
   "source": [
    "model2.save_weights('./checkpoints/model2_5epoch')"
   ]
  },
  {
   "cell_type": "markdown",
   "id": "promising-backup",
   "metadata": {
    "id": "xOyX4gxlA9Ht"
   },
   "source": [
    "We use the same process to evaluate the model and visualize the results on the test data."
   ]
  },
  {
   "cell_type": "code",
   "execution_count": null,
   "id": "cosmetic-decade",
   "metadata": {
    "colab": {
     "base_uri": "https://localhost:8080/"
    },
    "id": "eJ7bv-BZVnaB",
    "outputId": "042d9488-7150-47c3-eb47-59256ab37c10"
   },
   "outputs": [
    {
     "name": "stdout",
     "output_type": "stream",
     "text": [
      "121/121 [==============================] - 75s 174ms/step - loss: 1.7147 - accuracy: 0.3504\n"
     ]
    },
    {
     "data": {
      "text/plain": [
       "[1.7146955728530884, 0.35042956471443176]"
      ]
     },
     "execution_count": 53,
     "metadata": {},
     "output_type": "execute_result"
    }
   ],
   "source": [
    "model2.evaluate(test)"
   ]
  },
  {
   "cell_type": "code",
   "execution_count": null,
   "id": "mighty-label",
   "metadata": {
    "id": "9ZRaody0VnaD"
   },
   "outputs": [],
   "source": [
    "labels = np.argmax(np.concatenate([label for image, label in test], axis=0), axis=1)"
   ]
  },
  {
   "cell_type": "code",
   "execution_count": null,
   "id": "capital-indie",
   "metadata": {
    "id": "_Go7qyKGVnaE"
   },
   "outputs": [],
   "source": [
    "preds = model2.predict(test)"
   ]
  },
  {
   "cell_type": "code",
   "execution_count": null,
   "id": "offensive-suicide",
   "metadata": {
    "id": "ZR27l8CpVnaE"
   },
   "outputs": [],
   "source": [
    "import numpy as np\n",
    "from sklearn.metrics import confusion_matrix\n",
    "\n",
    "prediction = np.argmax(preds, axis=1)\n",
    "\n",
    "conf=confusion_matrix(labels, prediction)"
   ]
  },
  {
   "cell_type": "code",
   "execution_count": null,
   "id": "outer-prison",
   "metadata": {
    "colab": {
     "base_uri": "https://localhost:8080/",
     "height": 279
    },
    "id": "2fse6C7DVnaF",
    "outputId": "fe82f32c-df7a-4104-d63e-36efbc6fc94c"
   },
   "outputs": [
    {
     "data": {
      "image/png": "[encoded data removed]",
      "text/plain": [
       "<Figure size 432x288 with 2 Axes>"
      ]
     },
     "metadata": {
      "needs_background": "light"
     },
     "output_type": "display_data"
    }
   ],
   "source": [
    "import seaborn as sns\n",
    "ax = sns.heatmap(conf, annot=True, fmt='d', cmap='Blues') \n",
    "ax.set(xlabel='Predicted Label',\n",
    "       ylabel='True label');"
   ]
  }
 ],
 "metadata": {
  "accelerator": "GPU",
  "colab": {
   "collapsed_sections": [],
   "name": "milestone2.ipynb",
   "provenance": []
  },
  "kernelspec": {
   "display_name": "Python 3",
   "language": "python",
   "name": "python3"
  },
  "language_info": {
   "codemirror_mode": {
    "name": "ipython",
    "version": 3
   },
   "file_extension": ".py",
   "mimetype": "text/x-python",
   "name": "python",
   "nbconvert_exporter": "python",
   "pygments_lexer": "ipython3",
   "version": "3.8.5"
  }
 },
 "nbformat": 4,
 "nbformat_minor": 5
}
