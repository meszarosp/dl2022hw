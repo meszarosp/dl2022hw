{
  "cells": [
    {
      "cell_type": "markdown",
      "id": "oriented-robert",
      "metadata": {
        "id": "oriented-robert"
      },
      "source": [
        "# Deep Learning Homework: Waste classification\n",
        "Authors: Gergály Anna, Mészáros Péter"
      ]
    },
    {
      "cell_type": "markdown",
      "source": [
        "## Imports and installations\n",
        "\n",
        "Importing the necessary packages.\n",
        "os, shutil for copying and renaming files.\n",
        "KaggleApi, wget, zipfile to download and extact the datasets.\n",
        "opencv to transform the bad images into a good format.\n",
        "tensorflow to build and train the model.\n",
        "sklearn, seaborn to calculate metrics and display confusion matrix."
      ],
      "metadata": {
        "id": "WwjR9OvyxhsN"
      },
      "id": "WwjR9OvyxhsN"
    },
    {
      "cell_type": "code",
      "source": [
        "import os, shutil\n",
        "from kaggle.api.kaggle_api_extended import KaggleApi\n",
        "\n",
        "import zipfile\n",
        "import numpy as np\n",
        "import cv2\n",
        "\n",
        "import tensorflow.keras as keras\n",
        "from tensorflow.keras.preprocessing import image as image_utils\n",
        "import tensorflow as tf\n",
        "\n",
        "from tensorflow.keras.applications.efficientnet import EfficientNetB5\n",
        "from tensorflow.keras.applications.mobilenet_v2 import MobileNetV2\n",
        "from tensorflow.keras.layers import Rescaling, GlobalAveragePooling2D, Dense, Conv2D, AveragePooling2D, MaxPool2D, Dropout, Flatten, Concatenate, Input, concatenate\n",
        "from tensorflow.keras.models import Sequential, Model\n",
        "from tensorflow.keras.callbacks import EarlyStopping, ModelCheckpoint\n",
        "from tensorflow.keras.initializers import Constant, HeNormal\n",
        "from tensorflow.keras.optimizers import SGD, Adam, RMSprop\n",
        "\n",
        "from sklearn.metrics import confusion_matrix, accuracy_score, average_precision_score,  balanced_accuracy_score, top_k_accuracy_score, f1_score, precision_score, recall_score\n",
        "import seaborn as sns\n",
        "import sklearn\n",
        "import matplotlib.pyplot as plt\n",
        "import matplotlib.patches as mpatches"
      ],
      "metadata": {
        "id": "U3r_Ju2PxeSE"
      },
      "id": "U3r_Ju2PxeSE",
      "execution_count": null,
      "outputs": []
    },
    {
      "cell_type": "code",
      "source": [
        "!pip install wget > /dev/null\n",
        "import wget"
      ],
      "metadata": {
        "id": "vDWCulb1cKFZ"
      },
      "id": "vDWCulb1cKFZ",
      "execution_count": null,
      "outputs": []
    },
    {
      "cell_type": "markdown",
      "source": [
        "## Downloading the datasets\n",
        "\n",
        "Insert your Kaggle API keys, to download the datasets with the Kaggle API.\n",
        "The first block sets the environment variables for the Kaggle API to work. More info about creating a Kaggle API Token can be found here: https://www.kaggle.com/docs/api.\n",
        "The second block downloads the datasets from Kaggle.\n",
        "The third block downloads a third dataset from github as a zip file, and then extracts it."
      ],
      "metadata": {
        "id": "QX7VMRhl9LzD"
      },
      "id": "QX7VMRhl9LzD"
    },
    {
      "cell_type": "code",
      "execution_count": null,
      "id": "impaired-medium",
      "metadata": {
        "id": "impaired-medium"
      },
      "outputs": [],
      "source": [
        "os.environ['KAGGLE_USERNAME'] = 'meszarosp' #insert your api token data here\n",
        "os.environ['KAGGLE_KEY'] = '683a85fabdf6cd91b3accba45dd12872'"
      ]
    },
    {
      "cell_type": "code",
      "execution_count": null,
      "id": "fourth-container",
      "metadata": {
        "id": "fourth-container"
      },
      "outputs": [],
      "source": [
        "api = KaggleApi()\n",
        "api.authenticate()\n",
        "api.dataset_download_files('asdasdasasdas/garbage-classification', path=\"./garbage1\", quiet=True, unzip=True)\n",
        "api.dataset_download_files('mostafaabla/garbage-classification', path=\"./garbage2\", quiet=True, unzip=True)"
      ]
    },
    {
      "cell_type": "code",
      "execution_count": null,
      "id": "protected-stream",
      "metadata": {
        "id": "protected-stream",
        "colab": {
          "base_uri": "https://localhost:8080/",
          "height": 35
        },
        "outputId": "ed7605e3-88df-4737-f21a-20f195ecd301"
      },
      "outputs": [
        {
          "output_type": "execute_result",
          "data": {
            "text/plain": [
              "'./garbage3.zip'"
            ],
            "application/vnd.google.colaboratory.intrinsic+json": {
              "type": "string"
            }
          },
          "metadata": {},
          "execution_count": 6
        }
      ],
      "source": [
        "wget.download(\"https://github.com/nikhilvenkatkumsetty/TrashBox/archive/refs/heads/main.zip\", out=\"./garbage3.zip\")"
      ]
    },
    {
      "cell_type": "code",
      "execution_count": null,
      "id": "placed-australia",
      "metadata": {
        "id": "placed-australia"
      },
      "outputs": [],
      "source": [
        "with zipfile.ZipFile(\"garbage3.zip\", mode='r') as z:\n",
        "    z.extractall(\"./garbage3\")"
      ]
    },
    {
      "cell_type": "code",
      "execution_count": null,
      "id": "psychological-escape",
      "metadata": {
        "id": "psychological-escape"
      },
      "outputs": [],
      "source": [
        "dataset1_directory='garbage1/Garbage classification/Garbage classification/'\n",
        "dataset2_directory='garbage2/garbage_classification/'\n",
        "dataset3_directory='garbage3/TrashBox-main/TrashBox_train_set'\n",
        "dataset_directories = [dataset1_directory, dataset2_directory, dataset3_directory]"
      ]
    },
    {
      "cell_type": "markdown",
      "source": [
        "### Google colab drive mount\n",
        "\n",
        "Instead of downloading the datasets every time when we use Colab, we download them from our own Drive."
      ],
      "metadata": {
        "id": "1xMNDOtD1CXA"
      },
      "id": "1xMNDOtD1CXA"
    },
    {
      "cell_type": "code",
      "source": [
        "from google.colab import drive\n",
        "drive.mount('/content/drive')"
      ],
      "metadata": {
        "id": "s-v-__UY1Yqp",
        "colab": {
          "base_uri": "https://localhost:8080/"
        },
        "outputId": "4a7aaf93-cac5-4d69-983a-4b1c77b4ced2"
      },
      "id": "s-v-__UY1Yqp",
      "execution_count": null,
      "outputs": [
        {
          "output_type": "stream",
          "name": "stdout",
          "text": [
            "Mounted at /content/drive\n"
          ]
        }
      ]
    },
    {
      "cell_type": "code",
      "source": [
        "!cp -r '/content/drive/My Drive/AIT/garbage1' .\n",
        "!cp -r '/content/drive/My Drive/AIT/garbage2' .\n",
        "!cp -r '/content/drive/My Drive/AIT/garbage3' ."
      ],
      "metadata": {
        "id": "-dCaW6d12LX_",
        "colab": {
          "base_uri": "https://localhost:8080/"
        },
        "outputId": "1a295969-8634-4fb6-d610-f636bb1c35f7"
      },
      "id": "-dCaW6d12LX_",
      "execution_count": null,
      "outputs": [
        {
          "output_type": "stream",
          "name": "stdout",
          "text": [
            "cp: cannot stat '/content/drive/My Drive/AIT/garbage1': No such file or directory\n",
            "cp: cannot stat '/content/drive/My Drive/AIT/garbage2': No such file or directory\n",
            "cp: cannot stat '/content/drive/My Drive/AIT/garbage3': No such file or directory\n"
          ]
        }
      ]
    },
    {
      "cell_type": "markdown",
      "source": [
        "## Preprocessing the data"
      ],
      "metadata": {
        "id": "5uQvJhGs2YDz"
      },
      "id": "5uQvJhGs2YDz"
    },
    {
      "cell_type": "markdown",
      "id": "partial-bandwidth",
      "metadata": {
        "id": "partial-bandwidth"
      },
      "source": [
        "Removing the last unnecessary classes from the second dataset, which can't be found in the other datasets.\n",
        "Merging white-glass, brown-glass, green-glass classes into one class, named glass."
      ]
    },
    {
      "cell_type": "code",
      "execution_count": null,
      "id": "swedish-balance",
      "metadata": {
        "id": "swedish-balance"
      },
      "outputs": [],
      "source": [
        "removable_classes=['battery','clothes', 'biological', 'shoes']\n",
        "for label in removable_classes:\n",
        "    shutil.rmtree(os.path.join(dataset2_directory,label))\n",
        "os.rename('garbage2/garbage_classification/brown-glass', 'garbage2/garbage_classification/glass')\n",
        "glasses = [os.path.join(dataset2_directory,'white-glass'), os.path.join(dataset2_directory,'green-glass')]\n",
        "for glass_directory_name in glasses:\n",
        "    for filename in os.listdir(glass_directory_name):\n",
        "        shutil.move(os.path.join(glass_directory_name, filename), os.path.join('garbage2/garbage_classification/glass', filename))\n",
        "    os.rmdir(glass_directory_name)"
      ]
    },
    {
      "cell_type": "markdown",
      "id": "noted-fault",
      "metadata": {
        "id": "noted-fault"
      },
      "source": [
        "Adding the extra classes to the first, second and third dataset (e-waste and medical) and adding trash to the third dataset."
      ]
    },
    {
      "cell_type": "code",
      "execution_count": null,
      "id": "painted-sympathy",
      "metadata": {
        "id": "painted-sympathy"
      },
      "outputs": [],
      "source": [
        "os.mkdir(os.path.join(dataset1_directory, 'medical'))\n",
        "os.mkdir(os.path.join(dataset1_directory, 'e-waste'))\n",
        "os.mkdir(os.path.join(dataset2_directory, 'e-waste'))\n",
        "os.mkdir(os.path.join(dataset2_directory, 'medical'))\n",
        "os.mkdir(os.path.join(dataset3_directory, 'trash'))"
      ]
    },
    {
      "cell_type": "markdown",
      "source": [
        "Many images from the third dataset were in a bad format, Tensorflow couldn't read them. The images are converted to the correct format with opencv.\n",
        "\n",
        "The images which still turned out to be bad are also deleted."
      ],
      "metadata": {
        "id": "f_OQ3ggWUdps"
      },
      "id": "f_OQ3ggWUdps"
    },
    {
      "cell_type": "code",
      "source": [
        "def check_images(directory):\n",
        "    bad_images=[]\n",
        "    class_list= os.listdir(directory)\n",
        "    for image_class in class_list:\n",
        "        class_path=os.path.join (directory, image_class)\n",
        "        print ('processing class directory ', image_class)\n",
        "        if os.path.isdir(class_path):\n",
        "            file_list=os.listdir(class_path)\n",
        "            for file in file_list:               \n",
        "                file_path=os.path.join (class_path,file)\n",
        "                if os.path.isfile(file_path):\n",
        "                    try:\n",
        "                        img=cv2.imread(file_path)\n",
        "                        shape=img.shape\n",
        "                        cv2.imwrite(file_path, img)\n",
        "                    except:\n",
        "                        bad_images.append(file_path)\n",
        "    return bad_images\n",
        "\n",
        "source_dir = dataset3_directory\n",
        "bad_file_list=check_images(source_dir)\n",
        "if len(bad_file_list) !=0:\n",
        "    print('bad images:')\n",
        "    for i in range (len(bad_file_list)):\n",
        "        print (bad_file_list[i])\n",
        "else:\n",
        "    print('no bad images were found')\n",
        "for bad_image in bad_file_list:\n",
        "    os.remove(bad_image)"
      ],
      "metadata": {
        "colab": {
          "base_uri": "https://localhost:8080/"
        },
        "id": "O448CmZhD8Wb",
        "outputId": "3df96d32-1127-4548-ec64-9fc8dc96e465"
      },
      "id": "O448CmZhD8Wb",
      "execution_count": null,
      "outputs": [
        {
          "output_type": "stream",
          "name": "stdout",
          "text": [
            "processing class directory  glass\n",
            "processing class directory  metal\n",
            "processing class directory  medical\n",
            "processing class directory  cardboard\n",
            "processing class directory  trash\n",
            "processing class directory  paper\n",
            "processing class directory  e-waste\n",
            "processing class directory  plastic\n",
            "bad images:\n",
            "garbage3/TrashBox-main/TrashBox_train_set/glass/glass 1564.jpg\n",
            "garbage3/TrashBox-main/TrashBox_train_set/glass/glass 1160.jpg\n",
            "garbage3/TrashBox-main/TrashBox_train_set/glass/glass 1662.jpg\n",
            "garbage3/TrashBox-main/TrashBox_train_set/glass/glass 2388.jpg\n",
            "garbage3/TrashBox-main/TrashBox_train_set/glass/glass 1845.jpg\n",
            "garbage3/TrashBox-main/TrashBox_train_set/metal/metal 1772.jpg\n",
            "garbage3/TrashBox-main/TrashBox_train_set/metal/metal 2008.jpg\n",
            "garbage3/TrashBox-main/TrashBox_train_set/medical/medical 1858.jpg\n",
            "garbage3/TrashBox-main/TrashBox_train_set/medical/medical 1385.jpg\n",
            "garbage3/TrashBox-main/TrashBox_train_set/cardboard/cardboard 2076.jpg\n",
            "garbage3/TrashBox-main/TrashBox_train_set/cardboard/cardboard 1094.jpg\n",
            "garbage3/TrashBox-main/TrashBox_train_set/cardboard/cardboard 1075.jpg\n",
            "garbage3/TrashBox-main/TrashBox_train_set/paper/paper 942.jpg\n",
            "garbage3/TrashBox-main/TrashBox_train_set/paper/paper 943.jpg\n",
            "garbage3/TrashBox-main/TrashBox_train_set/paper/paper 1001.jpg\n",
            "garbage3/TrashBox-main/TrashBox_train_set/paper/paper 1919.jpg\n",
            "garbage3/TrashBox-main/TrashBox_train_set/paper/paper 2273.jpg\n",
            "garbage3/TrashBox-main/TrashBox_train_set/e-waste/e-waste 1719.jpg\n",
            "garbage3/TrashBox-main/TrashBox_train_set/e-waste/e-waste 1585.jpg\n",
            "garbage3/TrashBox-main/TrashBox_train_set/e-waste/e-waste 1483.jpg\n",
            "garbage3/TrashBox-main/TrashBox_train_set/e-waste/e-waste 1607.jpg\n"
          ]
        }
      ]
    },
    {
      "cell_type": "markdown",
      "source": [
        "## Splitting the dataset\n",
        "The datasets are split in a 14:3:3 ratio."
      ],
      "metadata": {
        "id": "GjcVTMUoxAR-"
      },
      "id": "GjcVTMUoxAR-"
    },
    {
      "cell_type": "code",
      "source": [
        "train_split = 0.7\n",
        "val_split = 0.15\n",
        "test_split = 0.15\n",
        "class_names=['glass', 'paper', 'cardboard', 'trash', 'metal', 'plastic', 'e-waste', 'medical']\n",
        "dirs = ['train', 'val', 'test']"
      ],
      "metadata": {
        "id": "MTUgDc5ccnVc"
      },
      "id": "MTUgDc5ccnVc",
      "execution_count": null,
      "outputs": []
    },
    {
      "cell_type": "markdown",
      "source": [
        "We split the images randomly into separate directories labeled \"train\", \"val\" and \"test\". \n",
        "\n",
        "(The names are changed a bit, because in the different datasets a few images had the same name.)"
      ],
      "metadata": {
        "id": "y8wS8VNTOXgM"
      },
      "id": "y8wS8VNTOXgM"
    },
    {
      "cell_type": "code",
      "source": [
        "for dir in dirs:\n",
        "  os.mkdir(dir)\n",
        "  for class_name in class_names:\n",
        "    os.mkdir(os.path.join(dir, class_name))"
      ],
      "metadata": {
        "id": "DglQNGf_c_y_"
      },
      "id": "DglQNGf_c_y_",
      "execution_count": null,
      "outputs": []
    },
    {
      "cell_type": "code",
      "source": [
        "np.random.seed(111)\n",
        "for i in range(len(dataset_directories)):\n",
        "  dataset_directory = dataset_directories[i]\n",
        "  for class_name in class_names:\n",
        "    for file in os.listdir(os.path.join(dataset_directory, class_name)):\n",
        "      random = np.random.rand()\n",
        "      file_name = os.path.splitext(file)[0]\n",
        "      file_ext = os.path.splitext(file)[1]\n",
        "      if random < train_split:\n",
        "        shutil.copy(os.path.join(dataset_directory, class_name, file), os.path.join(\"./train\", class_name, (file_name + str(i) + file_ext)))\n",
        "      elif random < train_split + val_split:\n",
        "        shutil.copy(os.path.join(dataset_directory, class_name, file), os.path.join(\"./val\", class_name, (file_name + str(i) + file_ext )))\n",
        "      else:\n",
        "        shutil.copy(os.path.join(dataset_directory, class_name, file), os.path.join(\"./test\", class_name, (file_name + str(i) + file_ext)))"
      ],
      "metadata": {
        "id": "iNuoIenVde3M"
      },
      "id": "iNuoIenVde3M",
      "execution_count": null,
      "outputs": []
    },
    {
      "cell_type": "markdown",
      "source": [
        "We split the images randomly into separate directories labeled \"train_i\", \"val_i\" and \"test_i\" for each dataset. "
      ],
      "metadata": {
        "id": "4-EcPgZLPFem"
      },
      "id": "4-EcPgZLPFem"
    },
    {
      "cell_type": "code",
      "source": [
        "for i in range(len(dataset_directories)):\n",
        "  for dir in dirs:\n",
        "    dirname = dir+ \"_\" + str(i)\n",
        "    os.mkdir(dirname)\n",
        "    for class_name in class_names:\n",
        "      os.mkdir(os.path.join(dirname, class_name))"
      ],
      "metadata": {
        "id": "PwvwgyOFsAbo"
      },
      "id": "PwvwgyOFsAbo",
      "execution_count": null,
      "outputs": []
    },
    {
      "cell_type": "code",
      "source": [
        "np.random.seed(111)\n",
        "for i in range(len(dataset_directories)):\n",
        "  dataset_directory = dataset_directories[i]\n",
        "  for class_name in class_names:\n",
        "    for file in os.listdir(os.path.join(dataset_directory, class_name)):\n",
        "      random = np.random.rand()\n",
        "      file_name = os.path.splitext(file)[0]\n",
        "      file_ext = os.path.splitext(file)[1]\n",
        "      if random < train_split:\n",
        "        shutil.copy(os.path.join(dataset_directory, class_name, file), os.path.join(\"./train_\" + str(i), class_name, (file_name + str(i) + file_ext)))\n",
        "      elif random < train_split + val_split:\n",
        "        shutil.copy(os.path.join(dataset_directory, class_name, file), os.path.join(\"./val_\" + str(i), class_name, (file_name + str(i) + file_ext )))\n",
        "      else:\n",
        "        shutil.copy(os.path.join(dataset_directory, class_name, file), os.path.join(\"./test_\" + str(i), class_name, (file_name + str(i) + file_ext)))"
      ],
      "metadata": {
        "id": "5fAz5DRYrtQG"
      },
      "id": "5fAz5DRYrtQG",
      "execution_count": null,
      "outputs": []
    },
    {
      "cell_type": "markdown",
      "id": "strategic-concert",
      "metadata": {
        "id": "strategic-concert"
      },
      "source": [
        "## Reading the datasets\n",
        "Setting hyperparameter variables.\n",
        "\n",
        "The training data is augmented with an ImageDataGenerator."
      ]
    },
    {
      "cell_type": "code",
      "execution_count": null,
      "id": "documented-halloween",
      "metadata": {
        "id": "documented-halloween"
      },
      "outputs": [],
      "source": [
        "image_size=(256, 256)\n",
        "seed=111\n",
        "batch_size=32"
      ]
    },
    {
      "cell_type": "code",
      "source": [
        "train = keras.preprocessing.image.ImageDataGenerator(\n",
        "    rotation_range=90,\n",
        "    width_shift_range = 0.2,\n",
        "    height_shift_range = 0.2,\n",
        "    shear_range = 0.1,\n",
        "    zoom_range = 0.1,\n",
        "    horizontal_flip = True,\n",
        "    vertical_flip = True,\n",
        "    rescale = 1.0/255\n",
        ").flow_from_directory(\n",
        "    \"./train\",\n",
        "    image_size,\n",
        "    batch_size=batch_size,\n",
        "    seed = seed\n",
        ")\n",
        "val = keras.utils.image_dataset_from_directory(\n",
        "    \"./val\",\n",
        "    labels='inferred',\n",
        "    label_mode='categorical',\n",
        "    batch_size=batch_size,\n",
        "    image_size=image_size,\n",
        "    seed=seed,\n",
        "    shuffle = False)\n",
        "test = keras.utils.image_dataset_from_directory(\n",
        "    \"./test\",\n",
        "    labels='inferred',\n",
        "    label_mode='categorical',\n",
        "    batch_size=batch_size,\n",
        "    image_size=image_size,\n",
        "    seed=seed,\n",
        "    shuffle = False)"
      ],
      "metadata": {
        "id": "CroOuiFTfVn3",
        "colab": {
          "base_uri": "https://localhost:8080/"
        },
        "outputId": "bf624d16-dba3-4359-e829-5a741ea353df"
      },
      "id": "CroOuiFTfVn3",
      "execution_count": null,
      "outputs": [
        {
          "output_type": "stream",
          "name": "stdout",
          "text": [
            "Found 16174 images belonging to 8 classes.\n",
            "Found 3369 files belonging to 8 classes.\n",
            "Found 3528 files belonging to 8 classes.\n"
          ]
        }
      ]
    },
    {
      "cell_type": "markdown",
      "source": [
        "Normalizing the datasets."
      ],
      "metadata": {
        "id": "zM7q9O86iiLv"
      },
      "id": "zM7q9O86iiLv"
    },
    {
      "cell_type": "code",
      "source": [
        "normalization_layer = tf.keras.layers.Rescaling(1./255)\n",
        "val = val.map(lambda x, y: (normalization_layer(x), y))\n",
        "test = test.map(lambda x, y: (normalization_layer(x), y))"
      ],
      "metadata": {
        "id": "-Ge-41XbgBDk"
      },
      "id": "-Ge-41XbgBDk",
      "execution_count": null,
      "outputs": []
    },
    {
      "cell_type": "markdown",
      "source": [
        "The datasets are read and normalized separetely."
      ],
      "metadata": {
        "id": "oXRYR44ixl96"
      },
      "id": "oXRYR44ixl96"
    },
    {
      "cell_type": "code",
      "source": [
        "train_ = []\n",
        "val_ = []\n",
        "test_ = []\n",
        "for i in range(3):\n",
        "  train_.append(keras.preprocessing.image.ImageDataGenerator(\n",
        "    rotation_range=90,\n",
        "    width_shift_range = 0.2,\n",
        "    height_shift_range = 0.2,\n",
        "    shear_range = 0.1,\n",
        "    zoom_range = 0.1,\n",
        "    horizontal_flip = True,\n",
        "    vertical_flip = True,\n",
        "    rescale = 1.0/255\n",
        "  ).flow_from_directory(\n",
        "    \"train_\" + str(i),\n",
        "    image_size,\n",
        "    batch_size=batch_size,\n",
        "    seed = seed\n",
        "  ))\n",
        "  val_.append(keras.utils.image_dataset_from_directory(\n",
        "    \"val_\" + str(i),\n",
        "    labels='inferred',\n",
        "    label_mode='categorical',\n",
        "    batch_size=batch_size,\n",
        "    image_size=image_size,\n",
        "    validation_split=None,\n",
        "    seed=seed\n",
        "  ))\n",
        "  test_.append(keras.utils.image_dataset_from_directory(\n",
        "    \"test_\" + str(i),\n",
        "    labels='inferred',\n",
        "    label_mode='categorical',\n",
        "    batch_size=batch_size,\n",
        "    image_size=image_size,\n",
        "    validation_split=None,\n",
        "    seed=seed\n",
        "  ))\n",
        "  val_[i] = val_[i].map(lambda x, y: (normalization_layer(x), y))\n",
        "  test_[i] = test_[i].map(lambda x, y: (normalization_layer(x), y))"
      ],
      "metadata": {
        "colab": {
          "base_uri": "https://localhost:8080/"
        },
        "id": "WcQDFGFitHJI",
        "outputId": "f3cd14da-0918-4613-f3af-ff431893acf4"
      },
      "id": "WcQDFGFitHJI",
      "execution_count": null,
      "outputs": [
        {
          "output_type": "stream",
          "name": "stdout",
          "text": [
            "Found 1740 images belonging to 8 classes.\n",
            "Found 399 files belonging to 8 classes.\n",
            "Found 388 files belonging to 8 classes.\n",
            "Found 4401 images belonging to 8 classes.\n",
            "Found 945 files belonging to 8 classes.\n",
            "Found 937 files belonging to 8 classes.\n",
            "Found 10033 images belonging to 8 classes.\n",
            "Found 2025 files belonging to 8 classes.\n",
            "Found 2203 files belonging to 8 classes.\n"
          ]
        }
      ]
    },
    {
      "cell_type": "markdown",
      "source": [
        "Reading the training dataset without augmentation for evaluation purposes."
      ],
      "metadata": {
        "id": "AiS7DYbAbCPY"
      },
      "id": "AiS7DYbAbCPY"
    },
    {
      "cell_type": "code",
      "source": [
        "train_no_aug = keras.utils.image_dataset_from_directory(\n",
        "    \"./train\",\n",
        "    labels='inferred',\n",
        "    class_names=['cardboard', 'e-waste', 'glass', 'medical', 'metal', 'paper', 'plastic', 'trash'],\n",
        "    label_mode='categorical',\n",
        "    batch_size=batch_size,\n",
        "    image_size=image_size,\n",
        "    seed=seed,\n",
        "    shuffle = False)\n",
        "train_no_aug = train_no_aug.map(lambda x, y: (normalization_layer(x), y))"
      ],
      "metadata": {
        "colab": {
          "base_uri": "https://localhost:8080/"
        },
        "outputId": "766db477-a53d-4dd3-f17b-030620f982e7",
        "id": "kj3iBOz8URK-"
      },
      "execution_count": null,
      "outputs": [
        {
          "output_type": "stream",
          "name": "stdout",
          "text": [
            "Found 16174 files belonging to 8 classes.\n"
          ]
        }
      ],
      "id": "kj3iBOz8URK-"
    },
    {
      "cell_type": "markdown",
      "source": [
        "Separating the labels from the data."
      ],
      "metadata": {
        "id": "JO_vxiBEbgPu"
      },
      "id": "JO_vxiBEbgPu"
    },
    {
      "cell_type": "code",
      "source": [
        "test_labels = np.argmax(np.concatenate([label for image, label in test], axis=0), axis=1)"
      ],
      "metadata": {
        "id": "bIuF9N8HlF_8"
      },
      "execution_count": null,
      "outputs": [],
      "id": "bIuF9N8HlF_8"
    },
    {
      "cell_type": "code",
      "source": [
        "val_labels = np.argmax(np.concatenate([label for image, label in val], axis=0), axis=1)"
      ],
      "metadata": {
        "id": "nuG2TAQurxxV"
      },
      "execution_count": null,
      "outputs": [],
      "id": "nuG2TAQurxxV"
    },
    {
      "cell_type": "code",
      "source": [
        "train_labels = np.argmax(np.concatenate([label for image, label in train_no_aug], axis=0), axis=1)"
      ],
      "metadata": {
        "id": "Z_TqpSFkgNpg"
      },
      "execution_count": null,
      "outputs": [],
      "id": "Z_TqpSFkgNpg"
    },
    {
      "cell_type": "markdown",
      "source": [
        "Calculating the number of images in each category in each split."
      ],
      "metadata": {
        "id": "vy0Hq0-ebtGv"
      },
      "id": "vy0Hq0-ebtGv"
    },
    {
      "cell_type": "code",
      "source": [
        "train_classes = []\n",
        "val_classes = []\n",
        "test_classes = []\n",
        "for i in range(8):\n",
        "  train_classes.append(np.count_nonzero(train_labels == i))\n",
        "  val_classes.append(np.count_nonzero(val_labels == i))\n",
        "  test_classes.append(np.count_nonzero(test_labels == i))"
      ],
      "metadata": {
        "id": "B4QGJUZjSd1M"
      },
      "execution_count": null,
      "outputs": [],
      "id": "B4QGJUZjSd1M"
    },
    {
      "cell_type": "code",
      "source": [
        "train_classes = np.array(train_classes)\n",
        "val_classes = np.array(val_classes)\n",
        "test_classes = np.array(test_classes)"
      ],
      "metadata": {
        "id": "7OTFhCC5fK46"
      },
      "id": "7OTFhCC5fK46",
      "execution_count": null,
      "outputs": []
    },
    {
      "cell_type": "markdown",
      "source": [
        "Plot displaying the ratio of the different classes in the different subsets."
      ],
      "metadata": {
        "id": "67Bh06sOb7ps"
      },
      "id": "67Bh06sOb7ps"
    },
    {
      "cell_type": "code",
      "source": [
        "plt.figure(figsize=(14, 9))\n",
        "\n",
        "\n",
        "sns.barplot([\"cardboard\", \"e-waste\",\"glass\", \"medical\", \"metal\", \"paper\", \"plastic\", \"trash\"], train_classes + test_classes + val_classes, x = \"classes\", y = \"percentage\", color = \"orangered\")\n",
        "sns.barplot([\"cardboard\", \"e-waste\",\"glass\", \"medical\", \"metal\", \"paper\", \"plastic\", \"trash\"], train_classes + val_classes, x = \"classes\", y = \"percentage\", color = \"orange\")\n",
        "sns.barplot([\"cardboard\", \"e-waste\",\"glass\", \"medical\", \"metal\", \"paper\", \"plastic\", \"trash\"], train_classes, x = \"classes\", y = \"percentage\", color = \"gold\")\n",
        "\n",
        "top_bar = mpatches.Patch(color='orangered', label='test')\n",
        "middle_bar = mpatches.Patch(color='orange', label='validation')\n",
        "bottom_bar = mpatches.Patch(color='gold', label='training')\n",
        "\n",
        "plt.legend(handles=[top_bar, middle_bar, bottom_bar])\n",
        "\n",
        "plt.show()"
      ],
      "metadata": {
        "id": "H2_cqX-pTRul",
        "colab": {
          "base_uri": "https://localhost:8080/",
          "height": 664
        },
        "outputId": "836f4a4c-62ba-4c93-e56b-7621b8b95013"
      },
      "execution_count": null,
      "outputs": [
        {
          "output_type": "stream",
          "name": "stderr",
          "text": [
            "/usr/local/lib/python3.7/dist-packages/seaborn/_decorators.py:43: FutureWarning: Pass the following variables as keyword args: x, y. From version 0.12, the only valid positional argument will be `data`, and passing other arguments without an explicit keyword will result in an error or misinterpretation.\n",
            "  FutureWarning\n",
            "/usr/local/lib/python3.7/dist-packages/seaborn/_decorators.py:43: FutureWarning: Pass the following variables as keyword args: x, y. From version 0.12, the only valid positional argument will be `data`, and passing other arguments without an explicit keyword will result in an error or misinterpretation.\n",
            "  FutureWarning\n",
            "/usr/local/lib/python3.7/dist-packages/seaborn/_decorators.py:43: FutureWarning: Pass the following variables as keyword args: x, y. From version 0.12, the only valid positional argument will be `data`, and passing other arguments without an explicit keyword will result in an error or misinterpretation.\n",
            "  FutureWarning\n"
          ]
        },
        {
          "output_type": "display_data",
          "data": {
            "text/plain": [
              "<Figure size 1008x648 with 1 Axes>"
            ],
            "image/png": "[encoded data removed]"
          },
          "metadata": {
            "needs_background": "light"
          }
        }
      ],
      "id": "H2_cqX-pTRul"
    },
    {
      "cell_type": "markdown",
      "id": "improved-access",
      "metadata": {
        "id": "improved-access"
      },
      "source": [
        "## Traning the models\n",
        "\n",
        "We chose 3 models to train.\n",
        "\n",
        "\n",
        "(Evaluation is after the training and experiment.)"
      ]
    },
    {
      "cell_type": "markdown",
      "source": [
        "### First model: EffientNetB5"
      ],
      "metadata": {
        "id": "bWcLPLfmvxO-"
      },
      "id": "bWcLPLfmvxO-"
    },
    {
      "cell_type": "markdown",
      "source": [
        "We chose a medium sized EfficientNet trained on image net as our first model, to ensure that it trains at a reasonable pace and also yields acceptable results. We rescaled the inputs to the range EfficientNet expects them in and added a GlobalAveragePooling layer and a Dense layer with 8 nodes to serve as our output layer. We chose a softmax activation function to go with our classification problem."
      ],
      "metadata": {
        "id": "PHhlUKeT5Vjl"
      },
      "id": "PHhlUKeT5Vjl"
    },
    {
      "cell_type": "code",
      "execution_count": null,
      "id": "occasional-homeless",
      "metadata": {
        "colab": {
          "base_uri": "https://localhost:8080/"
        },
        "id": "occasional-homeless",
        "outputId": "b095418c-60f3-4175-f408-6a0efe9bf65f"
      },
      "outputs": [
        {
          "output_type": "stream",
          "name": "stdout",
          "text": [
            "Downloading data from https://storage.googleapis.com/keras-applications/efficientnetb5_notop.h5\n",
            "115269632/115263384 [==============================] - 5s 0us/step\n",
            "115277824/115263384 [==============================] - 5s 0us/step\n",
            "Model: \"model_1\"\n",
            "_________________________________________________________________\n",
            " Layer (type)                Output Shape              Param #   \n",
            "=================================================================\n",
            " input_3 (InputLayer)        [(None, 256, 256, 3)]     0         \n",
            "                                                                 \n",
            " rescaling_2 (Rescaling)     (None, 256, 256, 3)       0         \n",
            "                                                                 \n",
            " efficientnetb5 (Functional)  (None, 8, 8, 2048)       28513527  \n",
            "                                                                 \n",
            " global_average_pooling2d (G  (None, 2048)             0         \n",
            " lobalAveragePooling2D)                                          \n",
            "                                                                 \n",
            " dropout_3 (Dropout)         (None, 2048)              0         \n",
            "                                                                 \n",
            " dense_4 (Dense)             (None, 8)                 16392     \n",
            "                                                                 \n",
            "=================================================================\n",
            "Total params: 28,529,919\n",
            "Trainable params: 16,392\n",
            "Non-trainable params: 28,513,527\n",
            "_________________________________________________________________\n"
          ]
        }
      ],
      "source": [
        "base_model1 = EfficientNetB5(include_top = False, weights=\"imagenet\", input_shape=(256, 256, 3))\n",
        "base_model1.trainable = False\n",
        "scale_layer = Rescaling(scale=255)\n",
        "inputs = keras.Input(shape=(256, 256, 3))\n",
        "x = scale_layer(inputs)\n",
        "x = base_model1(x, training=False)\n",
        "x = GlobalAveragePooling2D()(x)\n",
        "x = Dropout(0.3)(x)\n",
        "x = Dense(8, activation='softmax')(x)\n",
        "model1 = keras.Model(inputs, x)\n",
        "model1.summary()"
      ]
    },
    {
      "cell_type": "code",
      "source": [
        "model1.compile(optimizer='Adam', loss='categorical_crossentropy', metrics=['categorical_accuracy'])"
      ],
      "metadata": {
        "id": "pjXHXOHZvWCO"
      },
      "id": "pjXHXOHZvWCO",
      "execution_count": null,
      "outputs": []
    },
    {
      "cell_type": "code",
      "source": [
        "es = EarlyStopping(monitor='val_categorical_accuracy', patience=5, restore_best_weights=True)"
      ],
      "metadata": {
        "id": "BDLOUGUKbU_T"
      },
      "id": "BDLOUGUKbU_T",
      "execution_count": null,
      "outputs": []
    },
    {
      "cell_type": "code",
      "source": [
        "model1.fit(train, validation_data=val, epochs=5, callbacks=[es], steps_per_epoch=400)"
      ],
      "metadata": {
        "colab": {
          "base_uri": "https://localhost:8080/"
        },
        "id": "0V8Aat-evCv-",
        "outputId": "54b4f36a-facc-48bf-9dbf-1f63904fd323"
      },
      "id": "0V8Aat-evCv-",
      "execution_count": null,
      "outputs": [
        {
          "output_type": "stream",
          "name": "stdout",
          "text": [
            "Epoch 1/5\n",
            "400/400 [==============================] - 462s 1s/step - loss: 0.4043 - categorical_accuracy: 0.8655 - val_loss: 0.4066 - val_categorical_accuracy: 0.8760\n",
            "Epoch 2/5\n",
            "400/400 [==============================] - 439s 1s/step - loss: 0.4014 - categorical_accuracy: 0.8633 - val_loss: 0.4103 - val_categorical_accuracy: 0.8731\n",
            "Epoch 3/5\n",
            "400/400 [==============================] - 440s 1s/step - loss: 0.3983 - categorical_accuracy: 0.8643 - val_loss: 0.4056 - val_categorical_accuracy: 0.8769\n",
            "Epoch 4/5\n",
            "400/400 [==============================] - 449s 1s/step - loss: 0.3865 - categorical_accuracy: 0.8724 - val_loss: 0.4010 - val_categorical_accuracy: 0.8760\n",
            "Epoch 5/5\n",
            "400/400 [==============================] - 461s 1s/step - loss: 0.3854 - categorical_accuracy: 0.8690 - val_loss: 0.3992 - val_categorical_accuracy: 0.8737\n"
          ]
        },
        {
          "output_type": "execute_result",
          "data": {
            "text/plain": [
              "<keras.callbacks.History at 0x7f0e7cc92550>"
            ]
          },
          "metadata": {},
          "execution_count": 21
        }
      ]
    },
    {
      "cell_type": "code",
      "source": [
        "model1.load_weights(\"./drive/My Drive/AIT/checkpoints/model1_15_1\")"
      ],
      "metadata": {
        "colab": {
          "base_uri": "https://localhost:8080/"
        },
        "id": "MnFyv_n5fma9",
        "outputId": "e9858f5a-81e4-4f02-c684-c63ce20a8639"
      },
      "id": "MnFyv_n5fma9",
      "execution_count": null,
      "outputs": [
        {
          "output_type": "stream",
          "name": "stdout",
          "text": [
            "WARNING:tensorflow:Inconsistent references when loading the checkpoint into this object graph. For example, in the saved checkpoint object, `model.layer.weight` and `model.layer_copy.weight` reference the same variable, while in the current object these are two different variables. The referenced variables are:(<keras.layers.core.dense.Dense object at 0x7f6b457d1810> and <keras.layers.core.dropout.Dropout object at 0x7f6b46f0a290>).\n"
          ]
        },
        {
          "output_type": "execute_result",
          "data": {
            "text/plain": [
              "<tensorflow.python.training.tracking.util.CheckpointLoadStatus at 0x7f6b4577e5d0>"
            ]
          },
          "metadata": {},
          "execution_count": 43
        }
      ]
    },
    {
      "cell_type": "markdown",
      "source": [
        "### Second model: own model"
      ],
      "metadata": {
        "id": "r-FfQsjhNHan"
      },
      "id": "r-FfQsjhNHan"
    },
    {
      "cell_type": "markdown",
      "source": [
        "For our second model, we decided to create our own. We added 8 convolutional layers with dropout, max and average pooling inbetween and finished it off with 3 dense layers with relu activation and HeNormal initialization and an output layer the same as our last model's."
      ],
      "metadata": {
        "id": "mOyXPdd889Ei"
      },
      "id": "mOyXPdd889Ei"
    },
    {
      "cell_type": "code",
      "source": [
        "bias_initializer = Constant(0.1)\n",
        "kernel_initializer = HeNormal()\n",
        "dropout_rate = 0.4\n",
        "\n",
        "inputs = Input(shape=(256, 256, 3))\n",
        "branch_1 = Conv2D(filters=10, kernel_size=(5,5),padding=\"same\", kernel_initializer=kernel_initializer, bias_initializer=bias_initializer)(inputs)\n",
        "branch_1=(Conv2D(filters=10, kernel_size=(5,5),padding=\"same\", kernel_initializer=kernel_initializer, bias_initializer=bias_initializer))(branch_1)\n",
        "branch_1=(MaxPool2D())(branch_1)\n",
        "branch_1=(Dropout(rate=dropout_rate))(branch_1)\n",
        "branch_1=(Conv2D(filters=10, kernel_size=(3,3),padding=\"same\", kernel_initializer=kernel_initializer, bias_initializer=bias_initializer))(branch_1)\n",
        "branch_1=(Conv2D(filters=10, kernel_size=(3,3),padding=\"same\", activation='relu', kernel_initializer=kernel_initializer, bias_initializer=bias_initializer))(branch_1)\n",
        "branch_1=(MaxPool2D())(branch_1)\n",
        "\n",
        "branch_1=Conv2D(filters=5, kernel_size=(3,3),padding=\"same\", kernel_initializer=kernel_initializer, bias_initializer=bias_initializer)(branch_1)\n",
        "branch_1=(Conv2D(filters=5, kernel_size=(3,3),padding=\"same\", kernel_initializer=kernel_initializer, bias_initializer=bias_initializer))(branch_1)\n",
        "branch_1=(AveragePooling2D(pool_size=(2, 2), strides=2))(branch_1)\n",
        "\n",
        "branch_2=(Dropout(rate=dropout_rate))(branch_1)\n",
        "\n",
        "branch_1=Flatten()(branch_1)\n",
        "\n",
        "branch_2=(Conv2D(filters=5, kernel_size=(3,3),padding=\"same\", kernel_initializer=kernel_initializer, bias_initializer=bias_initializer))(branch_2)\n",
        "branch_2=(Conv2D(filters=5, kernel_size=(3,3),padding=\"same\", kernel_initializer=kernel_initializer, bias_initializer=bias_initializer))(branch_2)\n",
        "branch_2=(AveragePooling2D())(branch_2)\n",
        "\n",
        "branch_2=Flatten()(branch_2)\n",
        "\n",
        "concat = concatenate([branch_1, branch_2])\n",
        "\n",
        "\n",
        "end=(Dense(512, activation='relu', kernel_initializer=kernel_initializer, bias_initializer=bias_initializer))(concat)\n",
        "end=(Dense(512, activation='relu', kernel_initializer=kernel_initializer, bias_initializer=bias_initializer))(end)\n",
        "end=(Dense(512, activation='relu', kernel_initializer=kernel_initializer, bias_initializer=bias_initializer))(end)\n",
        "end=(Dropout(rate=dropout_rate)) (end)\n",
        "output=(Dense(8, activation='softmax'))(end)\n",
        "\n",
        "model2 = Model(inputs = inputs, outputs=output)\n",
        "\n",
        "model2.compile(optimizer='Adam', loss='categorical_crossentropy', metrics=['categorical_accuracy', 'accuracy'])\n",
        "model2.summary()"
      ],
      "metadata": {
        "colab": {
          "base_uri": "https://localhost:8080/"
        },
        "id": "hS9ZdQsYXpFG",
        "outputId": "5417ffa4-4eee-41fb-b4d3-7509c9aed758"
      },
      "id": "hS9ZdQsYXpFG",
      "execution_count": null,
      "outputs": [
        {
          "output_type": "stream",
          "name": "stdout",
          "text": [
            "Model: \"model\"\n",
            "__________________________________________________________________________________________________\n",
            " Layer (type)                   Output Shape         Param #     Connected to                     \n",
            "==================================================================================================\n",
            " input_1 (InputLayer)           [(None, 256, 256, 3  0           []                               \n",
            "                                )]                                                                \n",
            "                                                                                                  \n",
            " conv2d (Conv2D)                (None, 256, 256, 10  760         ['input_1[0][0]']                \n",
            "                                )                                                                 \n",
            "                                                                                                  \n",
            " conv2d_1 (Conv2D)              (None, 256, 256, 10  2510        ['conv2d[0][0]']                 \n",
            "                                )                                                                 \n",
            "                                                                                                  \n",
            " max_pooling2d (MaxPooling2D)   (None, 128, 128, 10  0           ['conv2d_1[0][0]']               \n",
            "                                )                                                                 \n",
            "                                                                                                  \n",
            " dropout (Dropout)              (None, 128, 128, 10  0           ['max_pooling2d[0][0]']          \n",
            "                                )                                                                 \n",
            "                                                                                                  \n",
            " conv2d_2 (Conv2D)              (None, 128, 128, 10  910         ['dropout[0][0]']                \n",
            "                                )                                                                 \n",
            "                                                                                                  \n",
            " conv2d_3 (Conv2D)              (None, 128, 128, 10  910         ['conv2d_2[0][0]']               \n",
            "                                )                                                                 \n",
            "                                                                                                  \n",
            " max_pooling2d_1 (MaxPooling2D)  (None, 64, 64, 10)  0           ['conv2d_3[0][0]']               \n",
            "                                                                                                  \n",
            " conv2d_4 (Conv2D)              (None, 64, 64, 5)    455         ['max_pooling2d_1[0][0]']        \n",
            "                                                                                                  \n",
            " conv2d_5 (Conv2D)              (None, 64, 64, 5)    230         ['conv2d_4[0][0]']               \n",
            "                                                                                                  \n",
            " average_pooling2d (AveragePool  (None, 32, 32, 5)   0           ['conv2d_5[0][0]']               \n",
            " ing2D)                                                                                           \n",
            "                                                                                                  \n",
            " dropout_1 (Dropout)            (None, 32, 32, 5)    0           ['average_pooling2d[0][0]']      \n",
            "                                                                                                  \n",
            " conv2d_6 (Conv2D)              (None, 32, 32, 5)    230         ['dropout_1[0][0]']              \n",
            "                                                                                                  \n",
            " conv2d_7 (Conv2D)              (None, 32, 32, 5)    230         ['conv2d_6[0][0]']               \n",
            "                                                                                                  \n",
            " average_pooling2d_1 (AveragePo  (None, 16, 16, 5)   0           ['conv2d_7[0][0]']               \n",
            " oling2D)                                                                                         \n",
            "                                                                                                  \n",
            " flatten (Flatten)              (None, 5120)         0           ['average_pooling2d[0][0]']      \n",
            "                                                                                                  \n",
            " flatten_1 (Flatten)            (None, 1280)         0           ['average_pooling2d_1[0][0]']    \n",
            "                                                                                                  \n",
            " concatenate (Concatenate)      (None, 6400)         0           ['flatten[0][0]',                \n",
            "                                                                  'flatten_1[0][0]']              \n",
            "                                                                                                  \n",
            " dense (Dense)                  (None, 512)          3277312     ['concatenate[0][0]']            \n",
            "                                                                                                  \n",
            " dense_1 (Dense)                (None, 512)          262656      ['dense[0][0]']                  \n",
            "                                                                                                  \n",
            " dense_2 (Dense)                (None, 512)          262656      ['dense_1[0][0]']                \n",
            "                                                                                                  \n",
            " dropout_2 (Dropout)            (None, 512)          0           ['dense_2[0][0]']                \n",
            "                                                                                                  \n",
            " dense_3 (Dense)                (None, 8)            4104        ['dropout_2[0][0]']              \n",
            "                                                                                                  \n",
            "==================================================================================================\n",
            "Total params: 3,812,963\n",
            "Trainable params: 3,812,963\n",
            "Non-trainable params: 0\n",
            "__________________________________________________________________________________________________\n"
          ]
        }
      ]
    },
    {
      "cell_type": "code",
      "source": [
        "es = EarlyStopping(monitor='val_categorical_accuracy', patience=8, restore_best_weights=True)\n",
        "save_weights = ModelCheckpoint(\"./drive/My Drive/AIT/model2_2_Adam_1\", monitor='val_categorical_accuracy', verbose=1,\n",
        "    save_best_only=True, mode='max', save_weights_only=True, save_freq='epoch')"
      ],
      "metadata": {
        "id": "rU-pEaHWP5bY"
      },
      "id": "rU-pEaHWP5bY",
      "execution_count": null,
      "outputs": []
    },
    {
      "cell_type": "code",
      "source": [
        "model2.fit(train, validation_data=val, epochs=10, callbacks=[es, save_weights], steps_per_epoch=400)"
      ],
      "metadata": {
        "colab": {
          "base_uri": "https://localhost:8080/"
        },
        "id": "CHbu0CjYfs5n",
        "outputId": "1c339506-726e-4b83-d2b4-0b4f812f32c1"
      },
      "id": "CHbu0CjYfs5n",
      "execution_count": null,
      "outputs": [
        {
          "output_type": "stream",
          "name": "stdout",
          "text": [
            "Epoch 1/10\n",
            "400/400 [==============================] - ETA: 0s - loss: 1.6030 - categorical_accuracy: 0.4067 - accuracy: 0.4067\n",
            "Epoch 1: val_categorical_accuracy did not improve from 0.35322\n",
            "400/400 [==============================] - 282s 704ms/step - loss: 1.6030 - categorical_accuracy: 0.4067 - accuracy: 0.4067 - val_loss: 1.8038 - val_categorical_accuracy: 0.3455 - val_accuracy: 0.3455\n",
            "Epoch 2/10\n",
            "400/400 [==============================] - ETA: 0s - loss: 1.5961 - categorical_accuracy: 0.4185 - accuracy: 0.4185\n",
            "Epoch 2: val_categorical_accuracy improved from 0.35322 to 0.39656, saving model to ./drive/My Drive/AIT/model2_2_Adam_1\n",
            "400/400 [==============================] - 281s 701ms/step - loss: 1.5961 - categorical_accuracy: 0.4185 - accuracy: 0.4185 - val_loss: 1.6687 - val_categorical_accuracy: 0.3966 - val_accuracy: 0.3966\n",
            "Epoch 3/10\n",
            "400/400 [==============================] - ETA: 0s - loss: 1.5840 - categorical_accuracy: 0.4132 - accuracy: 0.4132\n",
            "Epoch 3: val_categorical_accuracy did not improve from 0.39656\n",
            "400/400 [==============================] - 281s 702ms/step - loss: 1.5840 - categorical_accuracy: 0.4132 - accuracy: 0.4132 - val_loss: 1.7360 - val_categorical_accuracy: 0.3583 - val_accuracy: 0.3583\n",
            "Epoch 4/10\n",
            "400/400 [==============================] - ETA: 0s - loss: 1.5772 - categorical_accuracy: 0.4220 - accuracy: 0.4220\n",
            "Epoch 4: val_categorical_accuracy did not improve from 0.39656\n",
            "400/400 [==============================] - 282s 704ms/step - loss: 1.5772 - categorical_accuracy: 0.4220 - accuracy: 0.4220 - val_loss: 1.7794 - val_categorical_accuracy: 0.3488 - val_accuracy: 0.3488\n",
            "Epoch 5/10\n",
            "400/400 [==============================] - ETA: 0s - loss: 1.5685 - categorical_accuracy: 0.4274 - accuracy: 0.4274\n",
            "Epoch 5: val_categorical_accuracy did not improve from 0.39656\n",
            "400/400 [==============================] - 283s 707ms/step - loss: 1.5685 - categorical_accuracy: 0.4274 - accuracy: 0.4274 - val_loss: 1.6626 - val_categorical_accuracy: 0.3737 - val_accuracy: 0.3737\n",
            "Epoch 6/10\n",
            "400/400 [==============================] - ETA: 0s - loss: 1.5455 - categorical_accuracy: 0.4380 - accuracy: 0.4380\n",
            "Epoch 6: val_categorical_accuracy improved from 0.39656 to 0.39685, saving model to ./drive/My Drive/AIT/model2_2_Adam_1\n",
            "400/400 [==============================] - 282s 704ms/step - loss: 1.5455 - categorical_accuracy: 0.4380 - accuracy: 0.4380 - val_loss: 1.6488 - val_categorical_accuracy: 0.3969 - val_accuracy: 0.3969\n",
            "Epoch 7/10\n",
            "400/400 [==============================] - ETA: 0s - loss: 1.5521 - categorical_accuracy: 0.4289 - accuracy: 0.4289\n",
            "Epoch 7: val_categorical_accuracy did not improve from 0.39685\n",
            "400/400 [==============================] - 282s 704ms/step - loss: 1.5521 - categorical_accuracy: 0.4289 - accuracy: 0.4289 - val_loss: 1.6971 - val_categorical_accuracy: 0.3704 - val_accuracy: 0.3704\n",
            "Epoch 8/10\n",
            "400/400 [==============================] - ETA: 0s - loss: 1.5428 - categorical_accuracy: 0.4382 - accuracy: 0.4382\n",
            "Epoch 8: val_categorical_accuracy did not improve from 0.39685\n",
            "400/400 [==============================] - 284s 710ms/step - loss: 1.5428 - categorical_accuracy: 0.4382 - accuracy: 0.4382 - val_loss: 1.6166 - val_categorical_accuracy: 0.3948 - val_accuracy: 0.3948\n",
            "Epoch 9/10\n",
            "400/400 [==============================] - ETA: 0s - loss: 1.5542 - categorical_accuracy: 0.4309 - accuracy: 0.4309\n",
            "Epoch 9: val_categorical_accuracy did not improve from 0.39685\n",
            "400/400 [==============================] - 281s 702ms/step - loss: 1.5542 - categorical_accuracy: 0.4309 - accuracy: 0.4309 - val_loss: 1.7134 - val_categorical_accuracy: 0.3888 - val_accuracy: 0.3888\n",
            "Epoch 10/10\n",
            "400/400 [==============================] - ETA: 0s - loss: 1.5142 - categorical_accuracy: 0.4492 - accuracy: 0.4492\n",
            "Epoch 10: val_categorical_accuracy did not improve from 0.39685\n",
            "400/400 [==============================] - 283s 707ms/step - loss: 1.5142 - categorical_accuracy: 0.4492 - accuracy: 0.4492 - val_loss: 1.6954 - val_categorical_accuracy: 0.3879 - val_accuracy: 0.3879\n"
          ]
        },
        {
          "output_type": "execute_result",
          "data": {
            "text/plain": [
              "<keras.callbacks.History at 0x7f4bb658a290>"
            ]
          },
          "metadata": {},
          "execution_count": 78
        }
      ]
    },
    {
      "cell_type": "code",
      "source": [
        "model2.load_weights(\"./drive/My Drive/AIT/model2_2_Adam_1\")"
      ],
      "metadata": {
        "id": "IFyqLo8iNum2",
        "colab": {
          "base_uri": "https://localhost:8080/"
        },
        "outputId": "c93388f0-d788-4560-a951-580bd5c805fb"
      },
      "id": "IFyqLo8iNum2",
      "execution_count": null,
      "outputs": [
        {
          "output_type": "execute_result",
          "data": {
            "text/plain": [
              "<tensorflow.python.training.tracking.util.CheckpointLoadStatus at 0x7f6b48b02550>"
            ]
          },
          "metadata": {},
          "execution_count": 31
        }
      ]
    },
    {
      "cell_type": "code",
      "source": [
        "bias_initializer = Constant(0.1)\n",
        "kernel_initializer = HeNormal()\n",
        "dropout_rate = 0.4\n",
        "\n",
        "inputs = Input(shape=(256, 256, 3))\n",
        "\n",
        "branch_0 = Conv2D(filters=20, kernel_size=(5, 5), strides=2, padding=\"same\", kernel_initializer=kernel_initializer, bias_initializer=bias_initializer)(inputs)\n",
        "branch_0 = Conv2D(filters=20, kernel_size=(5, 5), strides=2, padding=\"same\", kernel_initializer=kernel_initializer, bias_initializer=bias_initializer)(branch_0)\n",
        "branch_0=(MaxPool2D())(branch_0)\n",
        "branch_0=Dropout(dropout_rate)(branch_0)\n",
        "branch_0 = Conv2D(filters=10, kernel_size=(3, 3), padding=\"same\", kernel_initializer=kernel_initializer, bias_initializer=bias_initializer)(branch_0)\n",
        "branch_0 = Conv2D(filters=5, kernel_size=(3, 3), padding=\"same\", kernel_initializer=kernel_initializer, bias_initializer=bias_initializer)(branch_0)\n",
        "branch_0=MaxPool2D(pool_size=3, strides=3)(branch_0)\n",
        "branch_0=Flatten()(branch_0)\n",
        "\n",
        "branch_1 = Conv2D(filters=10, kernel_size=(5,5),padding=\"same\", kernel_initializer=kernel_initializer, bias_initializer=bias_initializer)(inputs)\n",
        "branch_1=(Conv2D(filters=10, kernel_size=(5,5),padding=\"same\", kernel_initializer=kernel_initializer, bias_initializer=bias_initializer))(branch_1)\n",
        "branch_1=(MaxPool2D())(branch_1)\n",
        "branch_1=(Dropout(rate=dropout_rate))(branch_1)\n",
        "branch_1=(Conv2D(filters=10, kernel_size=(3,3),padding=\"same\", kernel_initializer=kernel_initializer, bias_initializer=bias_initializer))(branch_1)\n",
        "branch_1=(Conv2D(filters=10, kernel_size=(3,3),padding=\"same\", activation='relu', kernel_initializer=kernel_initializer, bias_initializer=bias_initializer))(branch_1)\n",
        "branch_1=(MaxPool2D())(branch_1)\n",
        "branch_1=Conv2D(filters=5, kernel_size=(3,3),padding=\"same\", kernel_initializer=kernel_initializer, bias_initializer=bias_initializer)(branch_1)\n",
        "branch_1=(Conv2D(filters=5, kernel_size=(3,3),padding=\"same\", kernel_initializer=kernel_initializer, bias_initializer=bias_initializer))(branch_1)\n",
        "branch_1=AveragePooling2D(pool_size=(3, 3), strides=3)(branch_1)\n",
        "\n",
        "branch_2=(Dropout(rate=dropout_rate))(branch_1)\n",
        "\n",
        "branch_1=Flatten()(branch_1)\n",
        "\n",
        "branch_2=(Conv2D(filters=5, kernel_size=(3,3),padding=\"same\", kernel_initializer=kernel_initializer, bias_initializer=bias_initializer))(branch_2)\n",
        "branch_2=(Conv2D(filters=5, kernel_size=(3,3),padding=\"same\", kernel_initializer=kernel_initializer, bias_initializer=bias_initializer))(branch_2)\n",
        "branch_2=(AveragePooling2D())(branch_2)\n",
        "\n",
        "branch_2=Flatten()(branch_2)\n",
        "\n",
        "print(branch_1.shape)\n",
        "print(branch_2.shape)\n",
        "\n",
        "concat = concatenate([branch_0, branch_1, branch_2])\n",
        "\n",
        "print(concat)\n",
        "\n",
        "\n",
        "end=(Dense(512, activation='relu', kernel_initializer=kernel_initializer, bias_initializer=bias_initializer))(concat)\n",
        "end=(Dense(512, activation='relu', kernel_initializer=kernel_initializer, bias_initializer=bias_initializer))(end)\n",
        "end=(Dense(512, activation='relu', kernel_initializer=kernel_initializer, bias_initializer=bias_initializer))(end)\n",
        "end=(Dropout(rate=dropout_rate)) (end)\n",
        "output=(Dense(8, activation='softmax'))(end)\n",
        "\n",
        "model2 = Model(inputs = inputs, outputs=output)\n",
        "\n",
        "model2.compile(optimizer='Adam', loss='categorical_crossentropy', metrics=['categorical_accuracy', 'accuracy'])\n",
        "model2.summary()"
      ],
      "metadata": {
        "colab": {
          "base_uri": "https://localhost:8080/"
        },
        "outputId": "d464ec3f-b0fd-4619-efdf-ea8f35648c87",
        "id": "Th__9RB8NuyA"
      },
      "execution_count": null,
      "outputs": [
        {
          "output_type": "stream",
          "name": "stdout",
          "text": [
            "(None, 2205)\n",
            "(None, 500)\n",
            "KerasTensor(type_spec=TensorSpec(shape=(None, 3205), dtype=tf.float32, name=None), name='concatenate_1/concat:0', description=\"created by layer 'concatenate_1'\")\n",
            "Model: \"model_2\"\n",
            "__________________________________________________________________________________________________\n",
            " Layer (type)                   Output Shape         Param #     Connected to                     \n",
            "==================================================================================================\n",
            " input_4 (InputLayer)           [(None, 256, 256, 3  0           []                               \n",
            "                                )]                                                                \n",
            "                                                                                                  \n",
            " conv2d_12 (Conv2D)             (None, 256, 256, 10  760         ['input_4[0][0]']                \n",
            "                                )                                                                 \n",
            "                                                                                                  \n",
            " conv2d_13 (Conv2D)             (None, 256, 256, 10  2510        ['conv2d_12[0][0]']              \n",
            "                                )                                                                 \n",
            "                                                                                                  \n",
            " max_pooling2d_4 (MaxPooling2D)  (None, 128, 128, 10  0          ['conv2d_13[0][0]']              \n",
            "                                )                                                                 \n",
            "                                                                                                  \n",
            " dropout_5 (Dropout)            (None, 128, 128, 10  0           ['max_pooling2d_4[0][0]']        \n",
            "                                )                                                                 \n",
            "                                                                                                  \n",
            " conv2d_14 (Conv2D)             (None, 128, 128, 10  910         ['dropout_5[0][0]']              \n",
            "                                )                                                                 \n",
            "                                                                                                  \n",
            " conv2d_15 (Conv2D)             (None, 128, 128, 10  910         ['conv2d_14[0][0]']              \n",
            "                                )                                                                 \n",
            "                                                                                                  \n",
            " max_pooling2d_5 (MaxPooling2D)  (None, 64, 64, 10)  0           ['conv2d_15[0][0]']              \n",
            "                                                                                                  \n",
            " conv2d_8 (Conv2D)              (None, 128, 128, 20  1520        ['input_4[0][0]']                \n",
            "                                )                                                                 \n",
            "                                                                                                  \n",
            " conv2d_16 (Conv2D)             (None, 64, 64, 5)    455         ['max_pooling2d_5[0][0]']        \n",
            "                                                                                                  \n",
            " conv2d_9 (Conv2D)              (None, 64, 64, 20)   10020       ['conv2d_8[0][0]']               \n",
            "                                                                                                  \n",
            " conv2d_17 (Conv2D)             (None, 64, 64, 5)    230         ['conv2d_16[0][0]']              \n",
            "                                                                                                  \n",
            " max_pooling2d_2 (MaxPooling2D)  (None, 32, 32, 20)  0           ['conv2d_9[0][0]']               \n",
            "                                                                                                  \n",
            " average_pooling2d_2 (AveragePo  (None, 21, 21, 5)   0           ['conv2d_17[0][0]']              \n",
            " oling2D)                                                                                         \n",
            "                                                                                                  \n",
            " dropout_4 (Dropout)            (None, 32, 32, 20)   0           ['max_pooling2d_2[0][0]']        \n",
            "                                                                                                  \n",
            " dropout_6 (Dropout)            (None, 21, 21, 5)    0           ['average_pooling2d_2[0][0]']    \n",
            "                                                                                                  \n",
            " conv2d_10 (Conv2D)             (None, 32, 32, 10)   1810        ['dropout_4[0][0]']              \n",
            "                                                                                                  \n",
            " conv2d_18 (Conv2D)             (None, 21, 21, 5)    230         ['dropout_6[0][0]']              \n",
            "                                                                                                  \n",
            " conv2d_11 (Conv2D)             (None, 32, 32, 5)    455         ['conv2d_10[0][0]']              \n",
            "                                                                                                  \n",
            " conv2d_19 (Conv2D)             (None, 21, 21, 5)    230         ['conv2d_18[0][0]']              \n",
            "                                                                                                  \n",
            " max_pooling2d_3 (MaxPooling2D)  (None, 10, 10, 5)   0           ['conv2d_11[0][0]']              \n",
            "                                                                                                  \n",
            " average_pooling2d_3 (AveragePo  (None, 10, 10, 5)   0           ['conv2d_19[0][0]']              \n",
            " oling2D)                                                                                         \n",
            "                                                                                                  \n",
            " flatten_2 (Flatten)            (None, 500)          0           ['max_pooling2d_3[0][0]']        \n",
            "                                                                                                  \n",
            " flatten_3 (Flatten)            (None, 2205)         0           ['average_pooling2d_2[0][0]']    \n",
            "                                                                                                  \n",
            " flatten_4 (Flatten)            (None, 500)          0           ['average_pooling2d_3[0][0]']    \n",
            "                                                                                                  \n",
            " concatenate_1 (Concatenate)    (None, 3205)         0           ['flatten_2[0][0]',              \n",
            "                                                                  'flatten_3[0][0]',              \n",
            "                                                                  'flatten_4[0][0]']              \n",
            "                                                                                                  \n",
            " dense_5 (Dense)                (None, 512)          1641472     ['concatenate_1[0][0]']          \n",
            "                                                                                                  \n",
            " dense_6 (Dense)                (None, 512)          262656      ['dense_5[0][0]']                \n",
            "                                                                                                  \n",
            " dense_7 (Dense)                (None, 512)          262656      ['dense_6[0][0]']                \n",
            "                                                                                                  \n",
            " dropout_7 (Dropout)            (None, 512)          0           ['dense_7[0][0]']                \n",
            "                                                                                                  \n",
            " dense_8 (Dense)                (None, 8)            4104        ['dropout_7[0][0]']              \n",
            "                                                                                                  \n",
            "==================================================================================================\n",
            "Total params: 2,190,928\n",
            "Trainable params: 2,190,928\n",
            "Non-trainable params: 0\n",
            "__________________________________________________________________________________________________\n"
          ]
        }
      ],
      "id": "Th__9RB8NuyA"
    },
    {
      "cell_type": "code",
      "source": [
        "es = EarlyStopping(monitor='val_categorical_accuracy', patience=8, restore_best_weights=True)\n",
        "save_weights = ModelCheckpoint(\"./drive/My Drive/AIT/model2_3_Adam_2\", monitor='val_categorical_accuracy', verbose=1,\n",
        "    save_best_only=True, mode='max', save_weights_only=True, save_freq='epoch')"
      ],
      "metadata": {
        "id": "3qoO8CwQNuyD"
      },
      "execution_count": null,
      "outputs": [],
      "id": "3qoO8CwQNuyD"
    },
    {
      "cell_type": "code",
      "source": [
        "model2.fit(train, validation_data=val, epochs=40, callbacks=[es, save_weights], steps_per_epoch=200)"
      ],
      "metadata": {
        "colab": {
          "base_uri": "https://localhost:8080/"
        },
        "outputId": "07503fb3-2bb6-45b8-be16-b9e29b0502df",
        "id": "5OsP4POGNuyD"
      },
      "execution_count": null,
      "outputs": [
        {
          "output_type": "stream",
          "name": "stdout",
          "text": [
            "Epoch 1/40\n",
            "200/200 [==============================] - ETA: 0s - loss: 3.4771 - categorical_accuracy: 0.1990 - accuracy: 0.1990\n",
            "Epoch 1: val_categorical_accuracy improved from -inf to 0.22559, saving model to ./drive/My Drive/AIT/model2_3_Adam_2\n",
            "200/200 [==============================] - 159s 733ms/step - loss: 3.4771 - categorical_accuracy: 0.1990 - accuracy: 0.1990 - val_loss: 2.2073 - val_categorical_accuracy: 0.2256 - val_accuracy: 0.2256\n",
            "Epoch 2/40\n",
            "200/200 [==============================] - ETA: 0s - loss: 1.8646 - categorical_accuracy: 0.2802 - accuracy: 0.2802\n",
            "Epoch 2: val_categorical_accuracy improved from 0.22559 to 0.24340, saving model to ./drive/My Drive/AIT/model2_3_Adam_2\n",
            "200/200 [==============================] - 149s 744ms/step - loss: 1.8646 - categorical_accuracy: 0.2802 - accuracy: 0.2802 - val_loss: 2.0408 - val_categorical_accuracy: 0.2434 - val_accuracy: 0.2434\n",
            "Epoch 3/40\n",
            "200/200 [==============================] - ETA: 0s - loss: 1.8233 - categorical_accuracy: 0.2958 - accuracy: 0.2958\n",
            "Epoch 3: val_categorical_accuracy improved from 0.24340 to 0.24547, saving model to ./drive/My Drive/AIT/model2_3_Adam_2\n",
            "200/200 [==============================] - 151s 756ms/step - loss: 1.8233 - categorical_accuracy: 0.2958 - accuracy: 0.2958 - val_loss: 2.2231 - val_categorical_accuracy: 0.2455 - val_accuracy: 0.2455\n",
            "Epoch 4/40\n",
            "200/200 [==============================] - ETA: 0s - loss: 1.7775 - categorical_accuracy: 0.3135 - accuracy: 0.3135\n",
            "Epoch 4: val_categorical_accuracy improved from 0.24547 to 0.26684, saving model to ./drive/My Drive/AIT/model2_3_Adam_2\n",
            "200/200 [==============================] - 148s 740ms/step - loss: 1.7775 - categorical_accuracy: 0.3135 - accuracy: 0.3135 - val_loss: 2.5294 - val_categorical_accuracy: 0.2668 - val_accuracy: 0.2668\n",
            "Epoch 5/40\n",
            "200/200 [==============================] - ETA: 0s - loss: 1.7477 - categorical_accuracy: 0.3408 - accuracy: 0.3408\n",
            "Epoch 5: val_categorical_accuracy did not improve from 0.26684\n",
            "200/200 [==============================] - 146s 732ms/step - loss: 1.7477 - categorical_accuracy: 0.3408 - accuracy: 0.3408 - val_loss: 2.5826 - val_categorical_accuracy: 0.2446 - val_accuracy: 0.2446\n",
            "Epoch 6/40\n",
            "200/200 [==============================] - ETA: 0s - loss: 1.7135 - categorical_accuracy: 0.3531 - accuracy: 0.3531\n",
            "Epoch 6: val_categorical_accuracy did not improve from 0.26684\n",
            "200/200 [==============================] - 152s 760ms/step - loss: 1.7135 - categorical_accuracy: 0.3531 - accuracy: 0.3531 - val_loss: 2.1278 - val_categorical_accuracy: 0.2600 - val_accuracy: 0.2600\n",
            "Epoch 7/40\n",
            "200/200 [==============================] - ETA: 0s - loss: 1.6738 - categorical_accuracy: 0.3815 - accuracy: 0.3815\n",
            "Epoch 7: val_categorical_accuracy improved from 0.26684 to 0.27397, saving model to ./drive/My Drive/AIT/model2_3_Adam_2\n",
            "200/200 [==============================] - 146s 731ms/step - loss: 1.6738 - categorical_accuracy: 0.3815 - accuracy: 0.3815 - val_loss: 2.2350 - val_categorical_accuracy: 0.2740 - val_accuracy: 0.2740\n",
            "Epoch 8/40\n",
            "200/200 [==============================] - ETA: 0s - loss: 1.6646 - categorical_accuracy: 0.3825 - accuracy: 0.3825\n",
            "Epoch 8: val_categorical_accuracy did not improve from 0.27397\n",
            "200/200 [==============================] - 144s 720ms/step - loss: 1.6646 - categorical_accuracy: 0.3825 - accuracy: 0.3825 - val_loss: 2.1375 - val_categorical_accuracy: 0.2671 - val_accuracy: 0.2671\n",
            "Epoch 9/40\n",
            "200/200 [==============================] - ETA: 0s - loss: 1.6691 - categorical_accuracy: 0.3825 - accuracy: 0.3825\n",
            "Epoch 9: val_categorical_accuracy did not improve from 0.27397\n",
            "200/200 [==============================] - 145s 727ms/step - loss: 1.6691 - categorical_accuracy: 0.3825 - accuracy: 0.3825 - val_loss: 2.1082 - val_categorical_accuracy: 0.2342 - val_accuracy: 0.2342\n",
            "Epoch 10/40\n",
            "200/200 [==============================] - ETA: 0s - loss: 1.6306 - categorical_accuracy: 0.3997 - accuracy: 0.3997\n",
            "Epoch 10: val_categorical_accuracy improved from 0.27397 to 0.28851, saving model to ./drive/My Drive/AIT/model2_3_Adam_2\n",
            "200/200 [==============================] - 150s 752ms/step - loss: 1.6306 - categorical_accuracy: 0.3997 - accuracy: 0.3997 - val_loss: 2.1994 - val_categorical_accuracy: 0.2885 - val_accuracy: 0.2885\n",
            "Epoch 11/40\n",
            "200/200 [==============================] - ETA: 0s - loss: 1.6351 - categorical_accuracy: 0.4002 - accuracy: 0.4002\n",
            "Epoch 11: val_categorical_accuracy did not improve from 0.28851\n",
            "200/200 [==============================] - 151s 753ms/step - loss: 1.6351 - categorical_accuracy: 0.4002 - accuracy: 0.4002 - val_loss: 2.3090 - val_categorical_accuracy: 0.2600 - val_accuracy: 0.2600\n",
            "Epoch 12/40\n",
            "200/200 [==============================] - ETA: 0s - loss: 1.6022 - categorical_accuracy: 0.4058 - accuracy: 0.4058\n",
            "Epoch 12: val_categorical_accuracy improved from 0.28851 to 0.29059, saving model to ./drive/My Drive/AIT/model2_3_Adam_2\n",
            "200/200 [==============================] - 153s 763ms/step - loss: 1.6022 - categorical_accuracy: 0.4058 - accuracy: 0.4058 - val_loss: 2.1792 - val_categorical_accuracy: 0.2906 - val_accuracy: 0.2906\n",
            "Epoch 13/40\n",
            "200/200 [==============================] - ETA: 0s - loss: 1.6087 - categorical_accuracy: 0.4077 - accuracy: 0.4077\n",
            "Epoch 13: val_categorical_accuracy did not improve from 0.29059\n",
            "200/200 [==============================] - 149s 743ms/step - loss: 1.6087 - categorical_accuracy: 0.4077 - accuracy: 0.4077 - val_loss: 2.4164 - val_categorical_accuracy: 0.2829 - val_accuracy: 0.2829\n",
            "Epoch 14/40\n",
            "200/200 [==============================] - ETA: 0s - loss: 1.5731 - categorical_accuracy: 0.4217 - accuracy: 0.4217\n",
            "Epoch 14: val_categorical_accuracy improved from 0.29059 to 0.32354, saving model to ./drive/My Drive/AIT/model2_3_Adam_2\n",
            "200/200 [==============================] - 149s 743ms/step - loss: 1.5731 - categorical_accuracy: 0.4217 - accuracy: 0.4217 - val_loss: 2.0189 - val_categorical_accuracy: 0.3235 - val_accuracy: 0.3235\n",
            "Epoch 15/40\n",
            "200/200 [==============================] - ETA: 0s - loss: 1.5921 - categorical_accuracy: 0.4105 - accuracy: 0.4105\n",
            "Epoch 15: val_categorical_accuracy did not improve from 0.32354\n",
            "200/200 [==============================] - 146s 732ms/step - loss: 1.5921 - categorical_accuracy: 0.4105 - accuracy: 0.4105 - val_loss: 2.2151 - val_categorical_accuracy: 0.2838 - val_accuracy: 0.2838\n",
            "Epoch 16/40\n",
            "200/200 [==============================] - ETA: 0s - loss: 1.5815 - categorical_accuracy: 0.4181 - accuracy: 0.4181\n",
            "Epoch 16: val_categorical_accuracy did not improve from 0.32354\n",
            "200/200 [==============================] - 146s 730ms/step - loss: 1.5815 - categorical_accuracy: 0.4181 - accuracy: 0.4181 - val_loss: 2.5203 - val_categorical_accuracy: 0.2386 - val_accuracy: 0.2386\n",
            "Epoch 17/40\n",
            "200/200 [==============================] - ETA: 0s - loss: 1.5628 - categorical_accuracy: 0.4281 - accuracy: 0.4281\n",
            "Epoch 17: val_categorical_accuracy did not improve from 0.32354\n",
            "200/200 [==============================] - 147s 736ms/step - loss: 1.5628 - categorical_accuracy: 0.4281 - accuracy: 0.4281 - val_loss: 2.1863 - val_categorical_accuracy: 0.2980 - val_accuracy: 0.2980\n",
            "Epoch 18/40\n",
            "200/200 [==============================] - ETA: 0s - loss: 1.5798 - categorical_accuracy: 0.4284 - accuracy: 0.4284\n",
            "Epoch 18: val_categorical_accuracy did not improve from 0.32354\n",
            "200/200 [==============================] - 147s 735ms/step - loss: 1.5798 - categorical_accuracy: 0.4284 - accuracy: 0.4284 - val_loss: 2.3671 - val_categorical_accuracy: 0.2303 - val_accuracy: 0.2303\n",
            "Epoch 19/40\n",
            "200/200 [==============================] - ETA: 0s - loss: 1.5685 - categorical_accuracy: 0.4284 - accuracy: 0.4284\n",
            "Epoch 19: val_categorical_accuracy did not improve from 0.32354\n",
            "200/200 [==============================] - 148s 738ms/step - loss: 1.5685 - categorical_accuracy: 0.4284 - accuracy: 0.4284 - val_loss: 2.4950 - val_categorical_accuracy: 0.2553 - val_accuracy: 0.2553\n",
            "Epoch 20/40\n",
            "200/200 [==============================] - ETA: 0s - loss: 1.5927 - categorical_accuracy: 0.4137 - accuracy: 0.4137\n",
            "Epoch 20: val_categorical_accuracy improved from 0.32354 to 0.34580, saving model to ./drive/My Drive/AIT/model2_3_Adam_2\n",
            "200/200 [==============================] - 160s 800ms/step - loss: 1.5927 - categorical_accuracy: 0.4137 - accuracy: 0.4137 - val_loss: 1.9949 - val_categorical_accuracy: 0.3458 - val_accuracy: 0.3458\n",
            "Epoch 21/40\n",
            "200/200 [==============================] - ETA: 0s - loss: 1.5384 - categorical_accuracy: 0.4477 - accuracy: 0.4477\n",
            "Epoch 21: val_categorical_accuracy did not improve from 0.34580\n",
            "200/200 [==============================] - 148s 740ms/step - loss: 1.5384 - categorical_accuracy: 0.4477 - accuracy: 0.4477 - val_loss: 2.2587 - val_categorical_accuracy: 0.3129 - val_accuracy: 0.3129\n",
            "Epoch 22/40\n",
            "200/200 [==============================] - ETA: 0s - loss: 1.5628 - categorical_accuracy: 0.4251 - accuracy: 0.4251\n",
            "Epoch 22: val_categorical_accuracy improved from 0.34580 to 0.35767, saving model to ./drive/My Drive/AIT/model2_3_Adam_2\n",
            "200/200 [==============================] - 147s 735ms/step - loss: 1.5628 - categorical_accuracy: 0.4251 - accuracy: 0.4251 - val_loss: 1.7781 - val_categorical_accuracy: 0.3577 - val_accuracy: 0.3577\n",
            "Epoch 23/40\n",
            "200/200 [==============================] - ETA: 0s - loss: 1.5373 - categorical_accuracy: 0.4369 - accuracy: 0.4369\n",
            "Epoch 23: val_categorical_accuracy did not improve from 0.35767\n",
            "200/200 [==============================] - 148s 742ms/step - loss: 1.5373 - categorical_accuracy: 0.4369 - accuracy: 0.4369 - val_loss: 2.3492 - val_categorical_accuracy: 0.2962 - val_accuracy: 0.2962\n",
            "Epoch 24/40\n",
            "200/200 [==============================] - ETA: 0s - loss: 1.5407 - categorical_accuracy: 0.4387 - accuracy: 0.4387\n",
            "Epoch 24: val_categorical_accuracy did not improve from 0.35767\n",
            "200/200 [==============================] - 149s 748ms/step - loss: 1.5407 - categorical_accuracy: 0.4387 - accuracy: 0.4387 - val_loss: 2.0476 - val_categorical_accuracy: 0.3244 - val_accuracy: 0.3244\n",
            "Epoch 25/40\n",
            "200/200 [==============================] - ETA: 0s - loss: 1.5220 - categorical_accuracy: 0.4431 - accuracy: 0.4431\n",
            "Epoch 25: val_categorical_accuracy did not improve from 0.35767\n",
            "200/200 [==============================] - 144s 721ms/step - loss: 1.5220 - categorical_accuracy: 0.4431 - accuracy: 0.4431 - val_loss: 2.3482 - val_categorical_accuracy: 0.2645 - val_accuracy: 0.2645\n",
            "Epoch 26/40\n",
            "200/200 [==============================] - ETA: 0s - loss: 1.5376 - categorical_accuracy: 0.4348 - accuracy: 0.4348\n",
            "Epoch 26: val_categorical_accuracy did not improve from 0.35767\n",
            "200/200 [==============================] - 148s 741ms/step - loss: 1.5376 - categorical_accuracy: 0.4348 - accuracy: 0.4348 - val_loss: 1.9922 - val_categorical_accuracy: 0.3390 - val_accuracy: 0.3390\n",
            "Epoch 27/40\n",
            "200/200 [==============================] - ETA: 0s - loss: 1.5143 - categorical_accuracy: 0.4509 - accuracy: 0.4509\n",
            "Epoch 27: val_categorical_accuracy did not improve from 0.35767\n",
            "200/200 [==============================] - 148s 741ms/step - loss: 1.5143 - categorical_accuracy: 0.4509 - accuracy: 0.4509 - val_loss: 2.3218 - val_categorical_accuracy: 0.3034 - val_accuracy: 0.3034\n",
            "Epoch 28/40\n",
            "200/200 [==============================] - ETA: 0s - loss: 1.5046 - categorical_accuracy: 0.4542 - accuracy: 0.4542\n",
            "Epoch 28: val_categorical_accuracy did not improve from 0.35767\n",
            "200/200 [==============================] - 148s 740ms/step - loss: 1.5046 - categorical_accuracy: 0.4542 - accuracy: 0.4542 - val_loss: 2.1250 - val_categorical_accuracy: 0.3244 - val_accuracy: 0.3244\n",
            "Epoch 29/40\n",
            "200/200 [==============================] - ETA: 0s - loss: 1.5005 - categorical_accuracy: 0.4614 - accuracy: 0.4614\n",
            "Epoch 29: val_categorical_accuracy did not improve from 0.35767\n",
            "200/200 [==============================] - 147s 736ms/step - loss: 1.5005 - categorical_accuracy: 0.4614 - accuracy: 0.4614 - val_loss: 2.0263 - val_categorical_accuracy: 0.3345 - val_accuracy: 0.3345\n",
            "Epoch 30/40\n",
            "200/200 [==============================] - ETA: 0s - loss: 1.5016 - categorical_accuracy: 0.4519 - accuracy: 0.4519\n",
            "Epoch 30: val_categorical_accuracy did not improve from 0.35767\n",
            "200/200 [==============================] - 148s 740ms/step - loss: 1.5016 - categorical_accuracy: 0.4519 - accuracy: 0.4519 - val_loss: 2.5461 - val_categorical_accuracy: 0.2544 - val_accuracy: 0.2544\n"
          ]
        },
        {
          "output_type": "execute_result",
          "data": {
            "text/plain": [
              "<keras.callbacks.History at 0x7f4a5c804b50>"
            ]
          },
          "metadata": {},
          "execution_count": 37
        }
      ],
      "id": "5OsP4POGNuyD"
    },
    {
      "cell_type": "code",
      "source": [
        "model2.load_weights(\"./drive/My Drive/AIT/model2_3_Adam_2\")"
      ],
      "metadata": {
        "colab": {
          "base_uri": "https://localhost:8080/"
        },
        "id": "cOsPtFq0gMu-",
        "outputId": "27120e5b-00a9-4913-bcba-60a958327d9b"
      },
      "id": "cOsPtFq0gMu-",
      "execution_count": null,
      "outputs": [
        {
          "output_type": "execute_result",
          "data": {
            "text/plain": [
              "<tensorflow.python.training.tracking.util.CheckpointLoadStatus at 0x7f6b4bcb5110>"
            ]
          },
          "metadata": {},
          "execution_count": 49
        }
      ]
    },
    {
      "cell_type": "markdown",
      "source": [
        "### Third model: MobileNetV2"
      ],
      "metadata": {
        "id": "gVjsXSSFv0ym"
      },
      "id": "gVjsXSSFv0ym"
    },
    {
      "cell_type": "markdown",
      "source": [
        "For the third model, we chose a smaller one. The MobileNetV2 has 3.5M trainable parameters, which is almost the tenth of the EfficientNetB5's, which is about 30.6M. This model has a very low inferencte time. We expect similar or not so much worse results.  We rescaled the inputs to the range MobilenetV2 expects them in and added a GlobalAveragePooling layer and a Dense layer with 8 nodes to serve as our output layer. We chose a softmax activation function to go with our classification problem."
      ],
      "metadata": {
        "id": "ubJzxZr6Q6kT"
      },
      "id": "ubJzxZr6Q6kT"
    },
    {
      "cell_type": "code",
      "source": [
        "base_model3 = MobileNetV2(input_shape=(256, 256, 3), include_top=False, weights=\"imagenet\")\n",
        "base_model3.trainable = False\n",
        "scale_layer = Rescaling(scale=2, offset = -1)\n",
        "inputs = keras.Input(shape=(256, 256, 3))\n",
        "x = scale_layer(inputs)\n",
        "x = base_model3(x, training=False)\n",
        "x = GlobalAveragePooling2D()(x)\n",
        "x = Dropout(0.3)(x)\n",
        "x = Dense(8, activation='softmax')(x)\n",
        "model3 = keras.Model(inputs, x)\n",
        "model3.summary()"
      ],
      "metadata": {
        "id": "v3PT54aTv4bF",
        "colab": {
          "base_uri": "https://localhost:8080/"
        },
        "outputId": "080953aa-01a6-4944-8eb2-6df5740de490"
      },
      "id": "v3PT54aTv4bF",
      "execution_count": null,
      "outputs": [
        {
          "output_type": "stream",
          "name": "stdout",
          "text": [
            "WARNING:tensorflow:`input_shape` is undefined or non-square, or `rows` is not in [96, 128, 160, 192, 224]. Weights for input shape (224, 224) will be loaded as the default.\n",
            "Model: \"model_14\"\n",
            "_________________________________________________________________\n",
            " Layer (type)                Output Shape              Param #   \n",
            "=================================================================\n",
            " input_30 (InputLayer)       [(None, 256, 256, 3)]     0         \n",
            "                                                                 \n",
            " rescaling_18 (Rescaling)    (None, 256, 256, 3)       0         \n",
            "                                                                 \n",
            " mobilenetv2_1.00_224 (Funct  (None, 8, 8, 1280)       2257984   \n",
            " ional)                                                          \n",
            "                                                                 \n",
            " global_average_pooling2d_14  (None, 1280)             0         \n",
            "  (GlobalAveragePooling2D)                                       \n",
            "                                                                 \n",
            " dropout_14 (Dropout)        (None, 1280)              0         \n",
            "                                                                 \n",
            " dense_14 (Dense)            (None, 8)                 10248     \n",
            "                                                                 \n",
            "=================================================================\n",
            "Total params: 2,268,232\n",
            "Trainable params: 10,248\n",
            "Non-trainable params: 2,257,984\n",
            "_________________________________________________________________\n"
          ]
        }
      ]
    },
    {
      "cell_type": "code",
      "source": [
        "model3.compile(optimizer='Adam', loss='categorical_crossentropy', metrics=['categorical_accuracy'])"
      ],
      "metadata": {
        "id": "vBJ4IV89OvYu"
      },
      "id": "vBJ4IV89OvYu",
      "execution_count": null,
      "outputs": []
    },
    {
      "cell_type": "code",
      "source": [
        "es = EarlyStopping(monitor='val_categorical_accuracy', patience=5, restore_best_weights=True)\n",
        "save_weights = ModelCheckpoint(\"./drive/My Drive/AIT/model3checkpoints\", monitor='val_categorical_accuracy', verbose=1,\n",
        "    save_best_only=True, mode='max', save_weights_only=True, save_freq='epoch')"
      ],
      "metadata": {
        "id": "GkG6w3KZOyXy"
      },
      "id": "GkG6w3KZOyXy",
      "execution_count": null,
      "outputs": []
    },
    {
      "cell_type": "code",
      "source": [
        "model3.fit(train, validation_data=val, epochs=10, callbacks=[es, save_weights], steps_per_epoch=400)"
      ],
      "metadata": {
        "id": "24TFTrPJOz1B"
      },
      "id": "24TFTrPJOz1B",
      "execution_count": null,
      "outputs": []
    },
    {
      "cell_type": "markdown",
      "source": [
        "#### Fine-tuning\n"
      ],
      "metadata": {
        "id": "GCRMmHEXRyjU"
      },
      "id": "GCRMmHEXRyjU"
    },
    {
      "cell_type": "code",
      "source": [
        "base_model3.training = True"
      ],
      "metadata": {
        "id": "zOSlPb2wPMJ2"
      },
      "id": "zOSlPb2wPMJ2",
      "execution_count": null,
      "outputs": []
    },
    {
      "cell_type": "code",
      "source": [
        "model3.compile(optimizer=RMSprop(learning_rate=0.0001), loss='categorical_crossentropy', metrics=['categorical_accuracy'])"
      ],
      "metadata": {
        "id": "E_PY6jMqjLyQ"
      },
      "id": "E_PY6jMqjLyQ",
      "execution_count": null,
      "outputs": []
    },
    {
      "cell_type": "code",
      "source": [
        "es = EarlyStopping(monitor='val_categorical_accuracy', patience=5, restore_best_weights=True)\n",
        "save_weights = ModelCheckpoint(\"./drive/My Drive/AIT/model3checkpoints\", monitor='val_categorical_accuracy', verbose=1,\n",
        "    save_best_only=True, mode='max', save_weights_only=True, save_freq='epoch')"
      ],
      "metadata": {
        "id": "3FpVogsqkA9t"
      },
      "id": "3FpVogsqkA9t",
      "execution_count": null,
      "outputs": []
    },
    {
      "cell_type": "code",
      "source": [
        "model3.fit(train, validation_data=val, epochs=10, callbacks=[es, save_weights], steps_per_epoch=400)"
      ],
      "metadata": {
        "colab": {
          "base_uri": "https://localhost:8080/"
        },
        "id": "Sav-yv2CkALa",
        "outputId": "89de2ee2-2fb0-4611-8881-67e4e852882c"
      },
      "id": "Sav-yv2CkALa",
      "execution_count": null,
      "outputs": [
        {
          "output_type": "stream",
          "name": "stdout",
          "text": [
            "Epoch 1/10\n",
            "400/400 [==============================] - ETA: 0s - loss: 0.7143 - categorical_accuracy: 0.7566\n",
            "Epoch 1: val_categorical_accuracy improved from -inf to 0.82012, saving model to ./drive/My Drive/AIT/model3checkpoints\n",
            "400/400 [==============================] - 334s 828ms/step - loss: 0.7143 - categorical_accuracy: 0.7566 - val_loss: 0.5337 - val_categorical_accuracy: 0.8201\n",
            "Epoch 2/10\n",
            "400/400 [==============================] - ETA: 0s - loss: 0.7082 - categorical_accuracy: 0.7588\n",
            "Epoch 2: val_categorical_accuracy did not improve from 0.82012\n",
            "400/400 [==============================] - 321s 802ms/step - loss: 0.7082 - categorical_accuracy: 0.7588 - val_loss: 0.5307 - val_categorical_accuracy: 0.8198\n",
            "Epoch 3/10\n",
            "400/400 [==============================] - ETA: 0s - loss: 0.6928 - categorical_accuracy: 0.7608\n",
            "Epoch 3: val_categorical_accuracy improved from 0.82012 to 0.82458, saving model to ./drive/My Drive/AIT/model3checkpoints\n",
            "400/400 [==============================] - 320s 801ms/step - loss: 0.6928 - categorical_accuracy: 0.7608 - val_loss: 0.5316 - val_categorical_accuracy: 0.8246\n",
            "Epoch 4/10\n",
            "400/400 [==============================] - ETA: 0s - loss: 0.6892 - categorical_accuracy: 0.7645\n",
            "Epoch 4: val_categorical_accuracy did not improve from 0.82458\n",
            "400/400 [==============================] - 325s 812ms/step - loss: 0.6892 - categorical_accuracy: 0.7645 - val_loss: 0.5311 - val_categorical_accuracy: 0.8210\n",
            "Epoch 5/10\n",
            "400/400 [==============================] - ETA: 0s - loss: 0.6986 - categorical_accuracy: 0.7634\n",
            "Epoch 5: val_categorical_accuracy did not improve from 0.82458\n",
            "400/400 [==============================] - 321s 802ms/step - loss: 0.6986 - categorical_accuracy: 0.7634 - val_loss: 0.5305 - val_categorical_accuracy: 0.8234\n",
            "Epoch 6/10\n",
            "400/400 [==============================] - ETA: 0s - loss: 0.6925 - categorical_accuracy: 0.7638\n",
            "Epoch 6: val_categorical_accuracy did not improve from 0.82458\n",
            "400/400 [==============================] - 324s 810ms/step - loss: 0.6925 - categorical_accuracy: 0.7638 - val_loss: 0.5366 - val_categorical_accuracy: 0.8192\n",
            "Epoch 7/10\n",
            "400/400 [==============================] - ETA: 0s - loss: 0.6962 - categorical_accuracy: 0.7620\n",
            "Epoch 7: val_categorical_accuracy did not improve from 0.82458\n",
            "400/400 [==============================] - 322s 805ms/step - loss: 0.6962 - categorical_accuracy: 0.7620 - val_loss: 0.5317 - val_categorical_accuracy: 0.8207\n",
            "Epoch 8/10\n",
            "400/400 [==============================] - ETA: 0s - loss: 0.6890 - categorical_accuracy: 0.7633\n",
            "Epoch 8: val_categorical_accuracy did not improve from 0.82458\n",
            "400/400 [==============================] - 324s 810ms/step - loss: 0.6890 - categorical_accuracy: 0.7633 - val_loss: 0.5311 - val_categorical_accuracy: 0.8198\n"
          ]
        },
        {
          "output_type": "execute_result",
          "data": {
            "text/plain": [
              "<keras.callbacks.History at 0x7f592a262c10>"
            ]
          },
          "metadata": {},
          "execution_count": 165
        }
      ]
    },
    {
      "cell_type": "markdown",
      "source": [
        "## Experiment\n",
        "\n",
        "Training the first model on the seond dataset and after that training it on the third one."
      ],
      "metadata": {
        "id": "OcJ4SXl2wMap"
      },
      "id": "OcJ4SXl2wMap"
    },
    {
      "cell_type": "code",
      "execution_count": null,
      "metadata": {
        "colab": {
          "base_uri": "https://localhost:8080/"
        },
        "outputId": "428ea05d-daa2-46fe-cbd1-f95f5fd49790",
        "id": "MkiE-7e_xNOi"
      },
      "outputs": [
        {
          "output_type": "stream",
          "name": "stdout",
          "text": [
            "Model: \"model_4\"\n",
            "_________________________________________________________________\n",
            " Layer (type)                Output Shape              Param #   \n",
            "=================================================================\n",
            " input_10 (InputLayer)       [(None, 256, 256, 3)]     0         \n",
            "                                                                 \n",
            " rescaling_10 (Rescaling)    (None, 256, 256, 3)       0         \n",
            "                                                                 \n",
            " efficientnetb5 (Functional)  (None, 8, 8, 2048)       28513527  \n",
            "                                                                 \n",
            " global_average_pooling2d_4   (None, 2048)             0         \n",
            " (GlobalAveragePooling2D)                                        \n",
            "                                                                 \n",
            " dropout_4 (Dropout)         (None, 2048)              0         \n",
            "                                                                 \n",
            " dense_4 (Dense)             (None, 8)                 16392     \n",
            "                                                                 \n",
            "=================================================================\n",
            "Total params: 28,529,919\n",
            "Trainable params: 16,392\n",
            "Non-trainable params: 28,513,527\n",
            "_________________________________________________________________\n"
          ]
        }
      ],
      "source": [
        "base_model1 = EfficientNetB5(include_top = False, weights=\"imagenet\", input_shape=(256, 256, 3))\n",
        "base_model1.trainable = False\n",
        "scale_layer = Rescaling(scale=255)\n",
        "inputs = keras.Input(shape=(256, 256, 3))\n",
        "x = scale_layer(inputs)\n",
        "x = base_model1(x, training=False)\n",
        "x = GlobalAveragePooling2D()(x)\n",
        "x = Dropout(0.3)(x)\n",
        "x = Dense(8, activation='softmax')(x)\n",
        "experiment1 = keras.Model(inputs, x)\n",
        "experiment1.summary()"
      ],
      "id": "MkiE-7e_xNOi"
    },
    {
      "cell_type": "code",
      "source": [
        "experiment1.compile(optimizer='Adam', loss='categorical_crossentropy', metrics=['categorical_accuracy'])"
      ],
      "metadata": {
        "id": "vKrDhfOcxNOk"
      },
      "execution_count": null,
      "outputs": [],
      "id": "vKrDhfOcxNOk"
    },
    {
      "cell_type": "code",
      "source": [
        "es = EarlyStopping(monitor='val_categorical_accuracy', patience=5, restore_best_weights=True)\n",
        "save_weights = ModelCheckpoint(\"./drive/My Drive/AIT/experiment1checkpoints\", monitor='val_categorical_accuracy', verbose=1,\n",
        "    save_best_only=True, mode='max', save_weights_only=True, save_freq='epoch')"
      ],
      "metadata": {
        "id": "gwaaMStqxNOk"
      },
      "execution_count": null,
      "outputs": [],
      "id": "gwaaMStqxNOk"
    },
    {
      "cell_type": "code",
      "source": [
        "experiment1.load_weights(\"./drive/My Drive/AIT/experiment1checkpoints\")"
      ],
      "metadata": {
        "colab": {
          "base_uri": "https://localhost:8080/"
        },
        "id": "qbdEPyic5o1g",
        "outputId": "5587c6fc-62c6-4972-99ec-d53a13ea5886"
      },
      "id": "qbdEPyic5o1g",
      "execution_count": null,
      "outputs": [
        {
          "output_type": "execute_result",
          "data": {
            "text/plain": [
              "<tensorflow.python.training.tracking.util.CheckpointLoadStatus at 0x7f7458018c10>"
            ]
          },
          "metadata": {},
          "execution_count": 56
        }
      ]
    },
    {
      "cell_type": "code",
      "source": [
        "experiment1.fit(train_[1], validation_data=val_[1], epochs=20, callbacks=[es, save_weights], steps_per_epoch=100)"
      ],
      "metadata": {
        "colab": {
          "base_uri": "https://localhost:8080/"
        },
        "outputId": "65568b6a-792b-4b44-e0d8-a4fd1d6cc65c",
        "id": "vLWjRpR4xNOl"
      },
      "execution_count": null,
      "outputs": [
        {
          "output_type": "stream",
          "name": "stdout",
          "text": [
            "Epoch 1/20\n",
            "100/100 [==============================] - ETA: 0s - loss: 0.8584 - categorical_accuracy: 0.7416\n",
            "Epoch 1: val_categorical_accuracy improved from -inf to 0.88995, saving model to ./drive/My Drive/AIT/experiment1checkpoints\n",
            "100/100 [==============================] - 115s 971ms/step - loss: 0.8584 - categorical_accuracy: 0.7416 - val_loss: 0.4261 - val_categorical_accuracy: 0.8899\n",
            "Epoch 2/20\n",
            "100/100 [==============================] - ETA: 0s - loss: 0.4381 - categorical_accuracy: 0.8641\n",
            "Epoch 2: val_categorical_accuracy improved from 0.88995 to 0.91005, saving model to ./drive/My Drive/AIT/experiment1checkpoints\n",
            "100/100 [==============================] - 93s 926ms/step - loss: 0.4381 - categorical_accuracy: 0.8641 - val_loss: 0.3328 - val_categorical_accuracy: 0.9101\n",
            "Epoch 3/20\n",
            "100/100 [==============================] - ETA: 0s - loss: 0.3610 - categorical_accuracy: 0.8823\n",
            "Epoch 3: val_categorical_accuracy improved from 0.91005 to 0.91958, saving model to ./drive/My Drive/AIT/experiment1checkpoints\n",
            "100/100 [==============================] - 93s 924ms/step - loss: 0.3610 - categorical_accuracy: 0.8823 - val_loss: 0.2926 - val_categorical_accuracy: 0.9196\n",
            "Epoch 4/20\n",
            "100/100 [==============================] - ETA: 0s - loss: 0.3287 - categorical_accuracy: 0.8917\n",
            "Epoch 4: val_categorical_accuracy improved from 0.91958 to 0.92487, saving model to ./drive/My Drive/AIT/experiment1checkpoints\n",
            "100/100 [==============================] - 93s 932ms/step - loss: 0.3287 - categorical_accuracy: 0.8917 - val_loss: 0.2825 - val_categorical_accuracy: 0.9249\n",
            "Epoch 5/20\n",
            "100/100 [==============================] - ETA: 0s - loss: 0.2975 - categorical_accuracy: 0.9031\n",
            "Epoch 5: val_categorical_accuracy improved from 0.92487 to 0.93016, saving model to ./drive/My Drive/AIT/experiment1checkpoints\n",
            "100/100 [==============================] - 94s 935ms/step - loss: 0.2975 - categorical_accuracy: 0.9031 - val_loss: 0.2597 - val_categorical_accuracy: 0.9302\n",
            "Epoch 6/20\n",
            "100/100 [==============================] - ETA: 0s - loss: 0.2756 - categorical_accuracy: 0.9086\n",
            "Epoch 6: val_categorical_accuracy improved from 0.93016 to 0.93122, saving model to ./drive/My Drive/AIT/experiment1checkpoints\n",
            "100/100 [==============================] - 93s 926ms/step - loss: 0.2756 - categorical_accuracy: 0.9086 - val_loss: 0.2509 - val_categorical_accuracy: 0.9312\n",
            "Epoch 7/20\n",
            "100/100 [==============================] - ETA: 0s - loss: 0.2683 - categorical_accuracy: 0.9152\n",
            "Epoch 7: val_categorical_accuracy did not improve from 0.93122\n",
            "100/100 [==============================] - 91s 910ms/step - loss: 0.2683 - categorical_accuracy: 0.9152 - val_loss: 0.2430 - val_categorical_accuracy: 0.9312\n",
            "Epoch 8/20\n",
            "100/100 [==============================] - ETA: 0s - loss: 0.2582 - categorical_accuracy: 0.9105\n",
            "Epoch 8: val_categorical_accuracy improved from 0.93122 to 0.93757, saving model to ./drive/My Drive/AIT/experiment1checkpoints\n",
            "100/100 [==============================] - 93s 927ms/step - loss: 0.2582 - categorical_accuracy: 0.9105 - val_loss: 0.2354 - val_categorical_accuracy: 0.9376\n",
            "Epoch 9/20\n",
            "100/100 [==============================] - ETA: 0s - loss: 0.2528 - categorical_accuracy: 0.9137\n",
            "Epoch 9: val_categorical_accuracy improved from 0.93757 to 0.93862, saving model to ./drive/My Drive/AIT/experiment1checkpoints\n",
            "100/100 [==============================] - 92s 918ms/step - loss: 0.2528 - categorical_accuracy: 0.9137 - val_loss: 0.2339 - val_categorical_accuracy: 0.9386\n",
            "Epoch 10/20\n",
            "100/100 [==============================] - ETA: 0s - loss: 0.2470 - categorical_accuracy: 0.9206\n",
            "Epoch 10: val_categorical_accuracy did not improve from 0.93862\n",
            "100/100 [==============================] - 92s 913ms/step - loss: 0.2470 - categorical_accuracy: 0.9206 - val_loss: 0.2347 - val_categorical_accuracy: 0.9323\n",
            "Epoch 11/20\n",
            "100/100 [==============================] - ETA: 0s - loss: 0.2378 - categorical_accuracy: 0.9181\n",
            "Epoch 11: val_categorical_accuracy did not improve from 0.93862\n",
            "100/100 [==============================] - 91s 912ms/step - loss: 0.2378 - categorical_accuracy: 0.9181 - val_loss: 0.2347 - val_categorical_accuracy: 0.9354\n",
            "Epoch 12/20\n",
            "100/100 [==============================] - ETA: 0s - loss: 0.2271 - categorical_accuracy: 0.9281\n",
            "Epoch 12: val_categorical_accuracy did not improve from 0.93862\n",
            "100/100 [==============================] - 92s 914ms/step - loss: 0.2271 - categorical_accuracy: 0.9281 - val_loss: 0.2245 - val_categorical_accuracy: 0.9354\n",
            "Epoch 13/20\n",
            "100/100 [==============================] - ETA: 0s - loss: 0.2186 - categorical_accuracy: 0.9272\n",
            "Epoch 13: val_categorical_accuracy did not improve from 0.93862\n",
            "100/100 [==============================] - 92s 917ms/step - loss: 0.2186 - categorical_accuracy: 0.9272 - val_loss: 0.2259 - val_categorical_accuracy: 0.9344\n",
            "Epoch 14/20\n",
            "100/100 [==============================] - ETA: 0s - loss: 0.2176 - categorical_accuracy: 0.9297\n",
            "Epoch 14: val_categorical_accuracy did not improve from 0.93862\n",
            "100/100 [==============================] - 92s 920ms/step - loss: 0.2176 - categorical_accuracy: 0.9297 - val_loss: 0.2220 - val_categorical_accuracy: 0.9386\n"
          ]
        },
        {
          "output_type": "execute_result",
          "data": {
            "text/plain": [
              "<keras.callbacks.History at 0x7f73e07dc750>"
            ]
          },
          "metadata": {},
          "execution_count": 49
        }
      ],
      "id": "vLWjRpR4xNOl"
    },
    {
      "cell_type": "code",
      "source": [
        "save_weights = ModelCheckpoint(\"./drive/My Drive/AIT/experiment1checkpoints_2\", monitor='val_categorical_accuracy', verbose=1,\n",
        "    save_best_only=True, mode='max', save_weights_only=True, save_freq='epoch')"
      ],
      "metadata": {
        "id": "vEOdlg0V5aiw"
      },
      "id": "vEOdlg0V5aiw",
      "execution_count": null,
      "outputs": []
    },
    {
      "cell_type": "code",
      "source": [
        "experiment1.fit(train_[2], validation_data=val_[2], epochs=20, callbacks=[es, save_weights], steps_per_epoch=200)"
      ],
      "metadata": {
        "colab": {
          "base_uri": "https://localhost:8080/"
        },
        "id": "PLauxHnz5X_I",
        "outputId": "52c85dac-6e77-499e-d127-b7d5729bcab9"
      },
      "id": "PLauxHnz5X_I",
      "execution_count": null,
      "outputs": [
        {
          "output_type": "stream",
          "name": "stdout",
          "text": [
            "Epoch 1/20\n",
            "200/200 [==============================] - ETA: 0s - loss: 0.8843 - categorical_accuracy: 0.7161\n",
            "Epoch 1: val_categorical_accuracy improved from -inf to 0.82716, saving model to ./drive/My Drive/AIT/experiment1checkpoints_2\n",
            "200/200 [==============================] - 296s 1s/step - loss: 0.8843 - categorical_accuracy: 0.7161 - val_loss: 0.5184 - val_categorical_accuracy: 0.8272\n",
            "Epoch 2/20\n",
            "200/200 [==============================] - ETA: 0s - loss: 0.6125 - categorical_accuracy: 0.7933\n",
            "Epoch 2: val_categorical_accuracy improved from 0.82716 to 0.84000, saving model to ./drive/My Drive/AIT/experiment1checkpoints_2\n",
            "200/200 [==============================] - 269s 1s/step - loss: 0.6125 - categorical_accuracy: 0.7933 - val_loss: 0.4695 - val_categorical_accuracy: 0.8400\n",
            "Epoch 3/20\n",
            "200/200 [==============================] - ETA: 0s - loss: 0.5715 - categorical_accuracy: 0.8014\n",
            "Epoch 3: val_categorical_accuracy improved from 0.84000 to 0.84198, saving model to ./drive/My Drive/AIT/experiment1checkpoints_2\n",
            "200/200 [==============================] - 265s 1s/step - loss: 0.5715 - categorical_accuracy: 0.8014 - val_loss: 0.4525 - val_categorical_accuracy: 0.8420\n",
            "Epoch 4/20\n",
            "200/200 [==============================] - ETA: 0s - loss: 0.5641 - categorical_accuracy: 0.8111\n",
            "Epoch 4: val_categorical_accuracy improved from 0.84198 to 0.85531, saving model to ./drive/My Drive/AIT/experiment1checkpoints_2\n",
            "200/200 [==============================] - 260s 1s/step - loss: 0.5641 - categorical_accuracy: 0.8111 - val_loss: 0.4269 - val_categorical_accuracy: 0.8553\n",
            "Epoch 5/20\n",
            "200/200 [==============================] - ETA: 0s - loss: 0.5497 - categorical_accuracy: 0.8168\n",
            "Epoch 5: val_categorical_accuracy did not improve from 0.85531\n",
            "200/200 [==============================] - 261s 1s/step - loss: 0.5497 - categorical_accuracy: 0.8168 - val_loss: 0.4239 - val_categorical_accuracy: 0.8543\n",
            "Epoch 6/20\n",
            "200/200 [==============================] - ETA: 0s - loss: 0.5299 - categorical_accuracy: 0.8231\n",
            "Epoch 6: val_categorical_accuracy did not improve from 0.85531\n",
            "200/200 [==============================] - 263s 1s/step - loss: 0.5299 - categorical_accuracy: 0.8231 - val_loss: 0.4205 - val_categorical_accuracy: 0.8514\n",
            "Epoch 7/20\n",
            "200/200 [==============================] - ETA: 0s - loss: 0.5075 - categorical_accuracy: 0.8252\n",
            "Epoch 7: val_categorical_accuracy did not improve from 0.85531\n",
            "200/200 [==============================] - 265s 1s/step - loss: 0.5075 - categorical_accuracy: 0.8252 - val_loss: 0.4165 - val_categorical_accuracy: 0.8543\n",
            "Epoch 8/20\n",
            "200/200 [==============================] - ETA: 0s - loss: 0.5044 - categorical_accuracy: 0.8302\n",
            "Epoch 8: val_categorical_accuracy did not improve from 0.85531\n",
            "200/200 [==============================] - 261s 1s/step - loss: 0.5044 - categorical_accuracy: 0.8302 - val_loss: 0.4153 - val_categorical_accuracy: 0.8538\n",
            "Epoch 9/20\n",
            "200/200 [==============================] - ETA: 0s - loss: 0.5078 - categorical_accuracy: 0.8327\n",
            "Epoch 9: val_categorical_accuracy improved from 0.85531 to 0.85975, saving model to ./drive/My Drive/AIT/experiment1checkpoints_2\n",
            "200/200 [==============================] - 262s 1s/step - loss: 0.5078 - categorical_accuracy: 0.8327 - val_loss: 0.3991 - val_categorical_accuracy: 0.8598\n",
            "Epoch 10/20\n",
            "200/200 [==============================] - ETA: 0s - loss: 0.5091 - categorical_accuracy: 0.8264\n",
            "Epoch 10: val_categorical_accuracy improved from 0.85975 to 0.87012, saving model to ./drive/My Drive/AIT/experiment1checkpoints_2\n",
            "200/200 [==============================] - 262s 1s/step - loss: 0.5091 - categorical_accuracy: 0.8264 - val_loss: 0.3949 - val_categorical_accuracy: 0.8701\n",
            "Epoch 11/20\n",
            "200/200 [==============================] - ETA: 0s - loss: 0.4816 - categorical_accuracy: 0.8373\n",
            "Epoch 11: val_categorical_accuracy did not improve from 0.87012\n",
            "200/200 [==============================] - 265s 1s/step - loss: 0.4816 - categorical_accuracy: 0.8373 - val_loss: 0.3971 - val_categorical_accuracy: 0.8637\n",
            "Epoch 12/20\n",
            "200/200 [==============================] - ETA: 0s - loss: 0.4925 - categorical_accuracy: 0.8357\n",
            "Epoch 12: val_categorical_accuracy did not improve from 0.87012\n",
            "200/200 [==============================] - 254s 1s/step - loss: 0.4925 - categorical_accuracy: 0.8357 - val_loss: 0.3947 - val_categorical_accuracy: 0.8662\n",
            "Epoch 13/20\n",
            "200/200 [==============================] - ETA: 0s - loss: 0.4801 - categorical_accuracy: 0.8410\n",
            "Epoch 13: val_categorical_accuracy did not improve from 0.87012\n",
            "200/200 [==============================] - 258s 1s/step - loss: 0.4801 - categorical_accuracy: 0.8410 - val_loss: 0.3945 - val_categorical_accuracy: 0.8662\n",
            "Epoch 14/20\n",
            "200/200 [==============================] - ETA: 0s - loss: 0.4722 - categorical_accuracy: 0.8385\n",
            "Epoch 14: val_categorical_accuracy did not improve from 0.87012\n",
            "200/200 [==============================] - 246s 1s/step - loss: 0.4722 - categorical_accuracy: 0.8385 - val_loss: 0.3964 - val_categorical_accuracy: 0.8622\n",
            "Epoch 15/20\n",
            "200/200 [==============================] - ETA: 0s - loss: 0.4642 - categorical_accuracy: 0.8423\n",
            "Epoch 15: val_categorical_accuracy did not improve from 0.87012\n",
            "200/200 [==============================] - 248s 1s/step - loss: 0.4642 - categorical_accuracy: 0.8423 - val_loss: 0.3985 - val_categorical_accuracy: 0.8647\n"
          ]
        },
        {
          "output_type": "execute_result",
          "data": {
            "text/plain": [
              "<keras.callbacks.History at 0x7f7456eec810>"
            ]
          },
          "metadata": {},
          "execution_count": 59
        }
      ]
    },
    {
      "cell_type": "code",
      "source": [
        "experiment1.evaluate(test_[0])"
      ],
      "metadata": {
        "colab": {
          "base_uri": "https://localhost:8080/"
        },
        "id": "SXO3a1oxLb-T",
        "outputId": "b7be1d25-3de7-4cda-dda4-eed93e73d2e3"
      },
      "id": "SXO3a1oxLb-T",
      "execution_count": null,
      "outputs": [
        {
          "output_type": "stream",
          "name": "stdout",
          "text": [
            "13/13 [==============================] - 9s 592ms/step - loss: 1.2650 - categorical_accuracy: 0.7448\n"
          ]
        },
        {
          "output_type": "execute_result",
          "data": {
            "text/plain": [
              "[1.264991283416748, 0.7448453903198242]"
            ]
          },
          "metadata": {},
          "execution_count": 66
        }
      ]
    },
    {
      "cell_type": "code",
      "source": [
        "experiment1.evaluate(test_[1])"
      ],
      "metadata": {
        "colab": {
          "base_uri": "https://localhost:8080/"
        },
        "id": "vLG_Vh8XLfZ0",
        "outputId": "c541f371-421e-4130-ca89-12f8eff3c621"
      },
      "id": "vLG_Vh8XLfZ0",
      "execution_count": null,
      "outputs": [
        {
          "output_type": "stream",
          "name": "stdout",
          "text": [
            "30/30 [==============================] - 17s 538ms/step - loss: 1.0057 - categorical_accuracy: 0.7417\n"
          ]
        },
        {
          "output_type": "execute_result",
          "data": {
            "text/plain": [
              "[1.0057282447814941, 0.7417289018630981]"
            ]
          },
          "metadata": {},
          "execution_count": 67
        }
      ]
    },
    {
      "cell_type": "code",
      "source": [
        "experiment1.evaluate(test_[2])"
      ],
      "metadata": {
        "colab": {
          "base_uri": "https://localhost:8080/"
        },
        "id": "sra0GH79Lgmi",
        "outputId": "7a4fb559-69d5-41f4-8ad6-7af7b619087b"
      },
      "id": "sra0GH79Lgmi",
      "execution_count": null,
      "outputs": [
        {
          "output_type": "stream",
          "name": "stdout",
          "text": [
            "69/69 [==============================] - 43s 581ms/step - loss: 0.4086 - categorical_accuracy: 0.8697\n"
          ]
        },
        {
          "output_type": "execute_result",
          "data": {
            "text/plain": [
              "[0.40856829285621643, 0.8697230815887451]"
            ]
          },
          "metadata": {},
          "execution_count": 68
        }
      ]
    },
    {
      "cell_type": "markdown",
      "source": [
        "## Evaluation"
      ],
      "metadata": {
        "id": "ehOaKlPHeZve"
      },
      "id": "ehOaKlPHeZve"
    },
    {
      "cell_type": "code",
      "source": [
        "def calculate_eval_metrics(model, dataset, labels = None):\n",
        "  if labels is None:\n",
        "    labels = np.argmax(np.concatenate([label for image, label in dataset], axis=0), axis=1)\n",
        "  preds = model.predict(dataset)\n",
        "  prediction_category = np.argmax(preds, axis=1)\n",
        "  result = dict()\n",
        "\n",
        "  result['accuracy'] = accuracy_score(labels, prediction_category)\n",
        "  result['balanced_accuracy'] = balanced_accuracy_score(labels, prediction_category)\n",
        "  result['f1'] = sklearn.metrics.f1_score(labels, prediction_category, average='weighted')\n",
        "  result['precision'] = precision_score(labels, prediction_category, average='weighted')\n",
        "  result['recall'] = recall_score(labels, prediction_category, average='weighted')\n",
        "  for i in range(8):\n",
        "    result['f1_' + str(i)] = sklearn.metrics.f1_score(labels, prediction_category, labels=[i], average='macro')\n",
        "    result['precision_' + str(i)] = sklearn.metrics.f1_score(labels, prediction_category, labels=[i], average='macro')\n",
        "    result['recall_' + str(i)] = sklearn.metrics.f1_score(labels, prediction_category, labels=[i], average='macro')\n",
        "  result['top_2'] = top_k_accuracy_score(labels, preds, k=2)\n",
        "  result['top_3'] = top_k_accuracy_score(labels, preds, k=3)\n",
        "  return result"
      ],
      "metadata": {
        "id": "CgRC-X8Qeb9u"
      },
      "id": "CgRC-X8Qeb9u",
      "execution_count": null,
      "outputs": []
    },
    {
      "cell_type": "markdown",
      "source": [
        "Extracting the labels from the datasets."
      ],
      "metadata": {
        "id": "bCtX6ibdSGH7"
      },
      "id": "bCtX6ibdSGH7"
    },
    {
      "cell_type": "code",
      "source": [
        "train_no_aug = keras.utils.image_dataset_from_directory(\n",
        "    \"./train\",\n",
        "    labels='inferred',\n",
        "    class_names=['cardboard', 'e-waste', 'glass', 'medical', 'metal', 'paper', 'plastic', 'trash'],\n",
        "    label_mode='categorical',\n",
        "    batch_size=batch_size,\n",
        "    image_size=image_size,\n",
        "    seed=seed,\n",
        "    shuffle = False)\n",
        "train_no_aug = train_no_aug.map(lambda x, y: (normalization_layer(x), y))"
      ],
      "metadata": {
        "colab": {
          "base_uri": "https://localhost:8080/"
        },
        "id": "2AM-vlYZlN5h",
        "outputId": "7c560379-78bb-4ba0-94e1-8d5a1c676512"
      },
      "id": "2AM-vlYZlN5h",
      "execution_count": null,
      "outputs": [
        {
          "output_type": "stream",
          "name": "stdout",
          "text": [
            "Found 16174 files belonging to 8 classes.\n"
          ]
        }
      ]
    },
    {
      "cell_type": "markdown",
      "source": [
        "First model"
      ],
      "metadata": {
        "id": "cBqUA61vfaJj"
      },
      "id": "cBqUA61vfaJj"
    },
    {
      "cell_type": "code",
      "source": [
        "model1_test_metrics = calculate_eval_metrics(model1, test, test_labels)\n",
        "model1_val_metrics = calculate_eval_metrics(model1, val, val_labels)\n",
        "model1_train_metrics = calculate_eval_metrics(model1, train_no_aug, train_labels)"
      ],
      "metadata": {
        "id": "cEU2tm9cgJlG"
      },
      "id": "cEU2tm9cgJlG",
      "execution_count": null,
      "outputs": []
    },
    {
      "cell_type": "code",
      "source": [
        "model1_test_metrics, model1_val_metrics, model1_train_metrics"
      ],
      "metadata": {
        "colab": {
          "base_uri": "https://localhost:8080/"
        },
        "id": "xMB_0SJMoyrd",
        "outputId": "6d2a8d0f-d7c6-46f4-f0a8-1168c4d26e1a"
      },
      "id": "xMB_0SJMoyrd",
      "execution_count": null,
      "outputs": [
        {
          "output_type": "execute_result",
          "data": {
            "text/plain": [
              "({'accuracy': 0.8990929705215419,\n",
              "  'balanced_accuracy': 0.8916385238918945,\n",
              "  'f1': 0.8992515669589416,\n",
              "  'f1_0': 0.9298597194388778,\n",
              "  'f1_1': 0.9282700421940928,\n",
              "  'f1_2': 0.9214437367303608,\n",
              "  'f1_3': 0.8755186721991701,\n",
              "  'f1_4': 0.8829365079365079,\n",
              "  'f1_5': 0.8916741271262308,\n",
              "  'f1_6': 0.8685185185185185,\n",
              "  'f1_7': 0.8421052631578947,\n",
              "  'precision': 0.8997751252017229,\n",
              "  'precision_0': 0.9298597194388778,\n",
              "  'precision_1': 0.9282700421940928,\n",
              "  'precision_2': 0.9214437367303608,\n",
              "  'precision_3': 0.8755186721991701,\n",
              "  'precision_4': 0.8829365079365079,\n",
              "  'precision_5': 0.8916741271262308,\n",
              "  'precision_6': 0.8685185185185185,\n",
              "  'precision_7': 0.8421052631578947,\n",
              "  'recall': 0.8990929705215419,\n",
              "  'recall_0': 0.9298597194388778,\n",
              "  'recall_1': 0.9282700421940928,\n",
              "  'recall_2': 0.9214437367303608,\n",
              "  'recall_3': 0.8755186721991701,\n",
              "  'recall_4': 0.8829365079365079,\n",
              "  'recall_5': 0.8916741271262308,\n",
              "  'recall_6': 0.8685185185185185,\n",
              "  'recall_7': 0.8421052631578947,\n",
              "  'top_2': 0.9640022675736961,\n",
              "  'top_3': 0.9807256235827665},\n",
              " {'accuracy': 0.8999703176016622,\n",
              "  'balanced_accuracy': 0.8867226922597691,\n",
              "  'f1': 0.8997770350001101,\n",
              "  'f1_0': 0.913604766633565,\n",
              "  'f1_1': 0.9395770392749244,\n",
              "  'f1_2': 0.9367272727272726,\n",
              "  'f1_3': 0.8860759493670887,\n",
              "  'f1_4': 0.891832229580574,\n",
              "  'f1_5': 0.8870151770657673,\n",
              "  'f1_6': 0.852760736196319,\n",
              "  'f1_7': 0.8296943231441047,\n",
              "  'precision': 0.9004177965314389,\n",
              "  'precision_0': 0.913604766633565,\n",
              "  'precision_1': 0.9395770392749244,\n",
              "  'precision_2': 0.9367272727272726,\n",
              "  'precision_3': 0.8860759493670887,\n",
              "  'precision_4': 0.891832229580574,\n",
              "  'precision_5': 0.8870151770657673,\n",
              "  'precision_6': 0.852760736196319,\n",
              "  'precision_7': 0.8296943231441047,\n",
              "  'recall': 0.8999703176016622,\n",
              "  'recall_0': 0.913604766633565,\n",
              "  'recall_1': 0.9395770392749244,\n",
              "  'recall_2': 0.9367272727272726,\n",
              "  'recall_3': 0.8860759493670887,\n",
              "  'recall_4': 0.891832229580574,\n",
              "  'recall_5': 0.8870151770657673,\n",
              "  'recall_6': 0.852760736196319,\n",
              "  'recall_7': 0.8296943231441047,\n",
              "  'top_2': 0.9637874740279014,\n",
              "  'top_3': 0.9848619768477292},\n",
              " {'accuracy': 0.8981080746877705,\n",
              "  'balanced_accuracy': 0.8943380278818344,\n",
              "  'f1': 0.8981524556778908,\n",
              "  'f1_0': 0.9216950713956702,\n",
              "  'f1_1': 0.9428825096182302,\n",
              "  'f1_2': 0.9129606099110547,\n",
              "  'f1_3': 0.877038342882327,\n",
              "  'f1_4': 0.8833189282627486,\n",
              "  'f1_5': 0.8997970105185459,\n",
              "  'f1_6': 0.854788877445932,\n",
              "  'f1_7': 0.8724137931034482,\n",
              "  'precision': 0.8983885780037979,\n",
              "  'precision_0': 0.9216950713956702,\n",
              "  'precision_1': 0.9428825096182302,\n",
              "  'precision_2': 0.9129606099110547,\n",
              "  'precision_3': 0.877038342882327,\n",
              "  'precision_4': 0.8833189282627486,\n",
              "  'precision_5': 0.8997970105185459,\n",
              "  'precision_6': 0.854788877445932,\n",
              "  'precision_7': 0.8724137931034482,\n",
              "  'recall': 0.8981080746877705,\n",
              "  'recall_0': 0.9216950713956702,\n",
              "  'recall_1': 0.9428825096182302,\n",
              "  'recall_2': 0.9129606099110547,\n",
              "  'recall_3': 0.877038342882327,\n",
              "  'recall_4': 0.8833189282627486,\n",
              "  'recall_5': 0.8997970105185459,\n",
              "  'recall_6': 0.854788877445932,\n",
              "  'recall_7': 0.8724137931034482,\n",
              "  'top_2': 0.9697662915790776,\n",
              "  'top_3': 0.9868925435884753})"
            ]
          },
          "metadata": {},
          "execution_count": 69
        }
      ]
    },
    {
      "cell_type": "code",
      "source": [
        "preds = model1.predict(test)"
      ],
      "metadata": {
        "id": "lfvmObdaGC9Z"
      },
      "id": "lfvmObdaGC9Z",
      "execution_count": null,
      "outputs": []
    },
    {
      "cell_type": "code",
      "source": [
        "prediction = np.argmax(preds, axis=1)\n",
        "\n",
        "conf=confusion_matrix(test_labels, prediction)"
      ],
      "metadata": {
        "id": "MD31OLPmGF09"
      },
      "id": "MD31OLPmGF09",
      "execution_count": null,
      "outputs": []
    },
    {
      "cell_type": "code",
      "source": [
        "ax = sns.heatmap(conf, annot=True, fmt='d', cmap='Blues', vmax = 81) \n",
        "ax.set(xlabel='Predicted Label',\n",
        "       ylabel='True label');"
      ],
      "metadata": {
        "id": "8T54ihHlGSbK",
        "colab": {
          "base_uri": "https://localhost:8080/",
          "height": 281
        },
        "outputId": "558ad70e-310d-47bd-dc64-98a3764fc242"
      },
      "id": "8T54ihHlGSbK",
      "execution_count": null,
      "outputs": [
        {
          "output_type": "display_data",
          "data": {
            "text/plain": [
              "<Figure size 432x288 with 2 Axes>"
            ],
            "image/png": "[encoded data removed]"
          },
          "metadata": {
            "needs_background": "light"
          }
        }
      ]
    },
    {
      "cell_type": "markdown",
      "source": [
        "Second model."
      ],
      "metadata": {
        "id": "ET7hQnTcFND6"
      },
      "id": "ET7hQnTcFND6"
    },
    {
      "cell_type": "code",
      "source": [
        "model2_test_metrics = calculate_eval_metrics(model2, test, test_labels)\n",
        "model2_val_metrics = calculate_eval_metrics(model2, val, val_labels)\n",
        "model2_train_metrics = calculate_eval_metrics(model2, train_no_aug, train_labels)"
      ],
      "metadata": {
        "id": "Z4i4NZN8FPxO"
      },
      "id": "Z4i4NZN8FPxO",
      "execution_count": null,
      "outputs": []
    },
    {
      "cell_type": "code",
      "source": [
        "model2_test_metrics, model2_val_metrics, model2_train_metrics"
      ],
      "metadata": {
        "id": "sdTKuifQF0dg",
        "colab": {
          "base_uri": "https://localhost:8080/"
        },
        "outputId": "b9e89717-b296-4ab4-a3e7-bdd969a0838b"
      },
      "id": "sdTKuifQF0dg",
      "execution_count": null,
      "outputs": [
        {
          "output_type": "execute_result",
          "data": {
            "text/plain": [
              "({'accuracy': 0.39880952380952384,\n",
              "  'balanced_accuracy': 0.3490714429146722,\n",
              "  'f1': 0.3819561300781615,\n",
              "  'f1_0': 0.5486284289276808,\n",
              "  'f1_1': 0.4264264264264264,\n",
              "  'f1_2': 0.5215189873417722,\n",
              "  'f1_3': 0.278118609406953,\n",
              "  'f1_4': 0.276595744680851,\n",
              "  'f1_5': 0.2510460251046025,\n",
              "  'f1_6': 0.3642553191489361,\n",
              "  'f1_7': 0.05673758865248227,\n",
              "  'precision': 0.3831929640637054,\n",
              "  'precision_0': 0.5486284289276808,\n",
              "  'precision_1': 0.4264264264264264,\n",
              "  'precision_2': 0.5215189873417722,\n",
              "  'precision_3': 0.278118609406953,\n",
              "  'precision_4': 0.276595744680851,\n",
              "  'precision_5': 0.2510460251046025,\n",
              "  'precision_6': 0.3642553191489361,\n",
              "  'precision_7': 0.05673758865248227,\n",
              "  'recall': 0.39880952380952384,\n",
              "  'recall_0': 0.5486284289276808,\n",
              "  'recall_1': 0.4264264264264264,\n",
              "  'recall_2': 0.5215189873417722,\n",
              "  'recall_3': 0.278118609406953,\n",
              "  'recall_4': 0.276595744680851,\n",
              "  'recall_5': 0.2510460251046025,\n",
              "  'recall_6': 0.3642553191489361,\n",
              "  'recall_7': 0.05673758865248227,\n",
              "  'top_2': 0.5955215419501134,\n",
              "  'top_3': 0.7276077097505669},\n",
              " {'accuracy': 0.39596319382606116,\n",
              "  'balanced_accuracy': 0.337722713798714,\n",
              "  'f1': 0.37945532080466277,\n",
              "  'f1_0': 0.5728314238952537,\n",
              "  'f1_1': 0.3409490333919157,\n",
              "  'f1_2': 0.5085413929040736,\n",
              "  'f1_3': 0.2114942528735632,\n",
              "  'f1_4': 0.28039702233250624,\n",
              "  'f1_5': 0.29561671763506625,\n",
              "  'f1_6': 0.3615819209039548,\n",
              "  'f1_7': 0.05673758865248227,\n",
              "  'precision': 0.38296350199219387,\n",
              "  'precision_0': 0.5728314238952537,\n",
              "  'precision_1': 0.3409490333919157,\n",
              "  'precision_2': 0.5085413929040736,\n",
              "  'precision_3': 0.2114942528735632,\n",
              "  'precision_4': 0.28039702233250624,\n",
              "  'precision_5': 0.29561671763506625,\n",
              "  'precision_6': 0.3615819209039548,\n",
              "  'precision_7': 0.05673758865248227,\n",
              "  'recall': 0.39596319382606116,\n",
              "  'recall_0': 0.5728314238952537,\n",
              "  'recall_1': 0.3409490333919157,\n",
              "  'recall_2': 0.5085413929040736,\n",
              "  'recall_3': 0.2114942528735632,\n",
              "  'recall_4': 0.28039702233250624,\n",
              "  'recall_5': 0.29561671763506625,\n",
              "  'recall_6': 0.3615819209039548,\n",
              "  'recall_7': 0.05673758865248227,\n",
              "  'top_2': 0.5847432472543782,\n",
              "  'top_3': 0.7275155832591274},\n",
              " {'accuracy': 0.388277482379127,\n",
              "  'balanced_accuracy': 0.34254488784873016,\n",
              "  'f1': 0.3727268434951654,\n",
              "  'f1_0': 0.5294542826165523,\n",
              "  'f1_1': 0.39231278992710406,\n",
              "  'f1_2': 0.5106874638937031,\n",
              "  'f1_3': 0.24486373165618447,\n",
              "  'f1_4': 0.2829167740273125,\n",
              "  'f1_5': 0.2954844366505918,\n",
              "  'f1_6': 0.34045716409589294,\n",
              "  'f1_7': 0.07239819004524888,\n",
              "  'precision': 0.3805144808390741,\n",
              "  'precision_0': 0.5294542826165523,\n",
              "  'precision_1': 0.39231278992710406,\n",
              "  'precision_2': 0.5106874638937031,\n",
              "  'precision_3': 0.24486373165618447,\n",
              "  'precision_4': 0.2829167740273125,\n",
              "  'precision_5': 0.2954844366505918,\n",
              "  'precision_6': 0.34045716409589294,\n",
              "  'precision_7': 0.07239819004524888,\n",
              "  'recall': 0.388277482379127,\n",
              "  'recall_0': 0.5294542826165523,\n",
              "  'recall_1': 0.39231278992710406,\n",
              "  'recall_2': 0.5106874638937031,\n",
              "  'recall_3': 0.24486373165618447,\n",
              "  'recall_4': 0.2829167740273125,\n",
              "  'recall_5': 0.2954844366505918,\n",
              "  'recall_6': 0.34045716409589294,\n",
              "  'recall_7': 0.07239819004524888,\n",
              "  'top_2': 0.5762334611104242,\n",
              "  'top_3': 0.7176332385309756})"
            ]
          },
          "metadata": {},
          "execution_count": 34
        }
      ]
    },
    {
      "cell_type": "code",
      "source": [
        "preds = model2.predict(test)"
      ],
      "metadata": {
        "id": "9IXtuPNHGY3N"
      },
      "id": "9IXtuPNHGY3N",
      "execution_count": null,
      "outputs": []
    },
    {
      "cell_type": "code",
      "source": [
        "prediction = np.argmax(preds, axis=1)\n",
        "\n",
        "conf=confusion_matrix(test_labels, prediction)"
      ],
      "metadata": {
        "id": "q5JO11WFGb2d"
      },
      "id": "q5JO11WFGb2d",
      "execution_count": null,
      "outputs": []
    },
    {
      "cell_type": "code",
      "source": [
        "ax = sns.heatmap(conf, annot=True, fmt='d', cmap='Blues', vmax = 81) \n",
        "ax.set(xlabel='Predicted Label',\n",
        "       ylabel='True label');"
      ],
      "metadata": {
        "id": "eqn0M7EXGeOs",
        "colab": {
          "base_uri": "https://localhost:8080/",
          "height": 281
        },
        "outputId": "87ed7fe0-6f1b-4b92-aff0-fa779fa712d3"
      },
      "id": "eqn0M7EXGeOs",
      "execution_count": null,
      "outputs": [
        {
          "output_type": "display_data",
          "data": {
            "text/plain": [
              "<Figure size 432x288 with 2 Axes>"
            ],
            "image/png": "[encoded data removed]"
          },
          "metadata": {
            "needs_background": "light"
          }
        }
      ]
    },
    {
      "cell_type": "markdown",
      "source": [
        "Second model, second approach (three branches)."
      ],
      "metadata": {
        "id": "9411OVPFgAq3"
      },
      "id": "9411OVPFgAq3"
    },
    {
      "cell_type": "code",
      "source": [
        "model2_test_metrics = calculate_eval_metrics(model2, test, test_labels)\n",
        "model2_val_metrics = calculate_eval_metrics(model2, val, val_labels)\n",
        "model2_train_metrics = calculate_eval_metrics(model2, train_no_aug, train_labels)"
      ],
      "metadata": {
        "id": "2e255ZGRgHpm"
      },
      "execution_count": null,
      "outputs": [],
      "id": "2e255ZGRgHpm"
    },
    {
      "cell_type": "code",
      "source": [
        "model2_test_metrics, model2_val_metrics, model2_train_metrics"
      ],
      "metadata": {
        "colab": {
          "base_uri": "https://localhost:8080/"
        },
        "outputId": "126dbb97-0554-4c4b-a2b9-a1458197e035",
        "id": "IC_Sny0egHpq"
      },
      "execution_count": null,
      "outputs": [
        {
          "output_type": "execute_result",
          "data": {
            "text/plain": [
              "({'accuracy': 0.35487528344671204,\n",
              "  'balanced_accuracy': 0.29696859086527744,\n",
              "  'f1': 0.326024233481223,\n",
              "  'f1_0': 0.5102586975914362,\n",
              "  'f1_1': 0.21141649048625794,\n",
              "  'f1_2': 0.43197458973001585,\n",
              "  'f1_3': 0.23310023310023312,\n",
              "  'f1_4': 0.20933521923620932,\n",
              "  'f1_5': 0.22746781115879824,\n",
              "  'f1_6': 0.39854014598540144,\n",
              "  'f1_7': 0.07407407407407407,\n",
              "  'precision': 0.3618512259479963,\n",
              "  'precision_0': 0.5102586975914362,\n",
              "  'precision_1': 0.21141649048625794,\n",
              "  'precision_2': 0.43197458973001585,\n",
              "  'precision_3': 0.23310023310023312,\n",
              "  'precision_4': 0.20933521923620932,\n",
              "  'precision_5': 0.22746781115879824,\n",
              "  'precision_6': 0.39854014598540144,\n",
              "  'precision_7': 0.07407407407407407,\n",
              "  'recall': 0.35487528344671204,\n",
              "  'recall_0': 0.5102586975914362,\n",
              "  'recall_1': 0.21141649048625794,\n",
              "  'recall_2': 0.43197458973001585,\n",
              "  'recall_3': 0.23310023310023312,\n",
              "  'recall_4': 0.20933521923620932,\n",
              "  'recall_5': 0.22746781115879824,\n",
              "  'recall_6': 0.39854014598540144,\n",
              "  'recall_7': 0.07407407407407407,\n",
              "  'top_2': 0.5637755102040817,\n",
              "  'top_3': 0.717687074829932},\n",
              " {'accuracy': 0.3633125556544969,\n",
              "  'balanced_accuracy': 0.30296750891221813,\n",
              "  'f1': 0.33833161121885175,\n",
              "  'f1_0': 0.5183150183150184,\n",
              "  'f1_1': 0.19545454545454546,\n",
              "  'f1_2': 0.4348321001707456,\n",
              "  'f1_3': 0.233983286908078,\n",
              "  'f1_4': 0.24024024024024027,\n",
              "  'f1_5': 0.2649140546006067,\n",
              "  'f1_6': 0.3963133640552995,\n",
              "  'f1_7': 0.07518796992481203,\n",
              "  'precision': 0.3739671139937865,\n",
              "  'precision_0': 0.5183150183150184,\n",
              "  'precision_1': 0.19545454545454546,\n",
              "  'precision_2': 0.4348321001707456,\n",
              "  'precision_3': 0.233983286908078,\n",
              "  'precision_4': 0.24024024024024027,\n",
              "  'precision_5': 0.2649140546006067,\n",
              "  'precision_6': 0.3963133640552995,\n",
              "  'precision_7': 0.07518796992481203,\n",
              "  'recall': 0.3633125556544969,\n",
              "  'recall_0': 0.5183150183150184,\n",
              "  'recall_1': 0.19545454545454546,\n",
              "  'recall_2': 0.4348321001707456,\n",
              "  'recall_3': 0.233983286908078,\n",
              "  'recall_4': 0.24024024024024027,\n",
              "  'recall_5': 0.2649140546006067,\n",
              "  'recall_6': 0.3963133640552995,\n",
              "  'recall_7': 0.07518796992481203,\n",
              "  'top_2': 0.5666369842683289,\n",
              "  'top_3': 0.7245473434253488},\n",
              " {'accuracy': 0.3463583529120811,\n",
              "  'balanced_accuracy': 0.2953586526509514,\n",
              "  'f1': 0.3198254417947887,\n",
              "  'f1_0': 0.48598895479648185,\n",
              "  'f1_1': 0.20498866213151926,\n",
              "  'f1_2': 0.4289499036608863,\n",
              "  'f1_3': 0.23380418899171942,\n",
              "  'f1_4': 0.22546103509815588,\n",
              "  'f1_5': 0.23529411764705882,\n",
              "  'f1_6': 0.3879173290937997,\n",
              "  'f1_7': 0.08150470219435736,\n",
              "  'precision': 0.35538740531498775,\n",
              "  'precision_0': 0.48598895479648185,\n",
              "  'precision_1': 0.20498866213151926,\n",
              "  'precision_2': 0.4289499036608863,\n",
              "  'precision_3': 0.23380418899171942,\n",
              "  'precision_4': 0.22546103509815588,\n",
              "  'precision_5': 0.23529411764705882,\n",
              "  'precision_6': 0.3879173290937997,\n",
              "  'precision_7': 0.08150470219435736,\n",
              "  'recall': 0.3463583529120811,\n",
              "  'recall_0': 0.48598895479648185,\n",
              "  'recall_1': 0.20498866213151926,\n",
              "  'recall_2': 0.4289499036608863,\n",
              "  'recall_3': 0.23380418899171942,\n",
              "  'recall_4': 0.22546103509815588,\n",
              "  'recall_5': 0.23529411764705882,\n",
              "  'recall_6': 0.3879173290937997,\n",
              "  'recall_7': 0.08150470219435736,\n",
              "  'top_2': 0.5469889946828242,\n",
              "  'top_3': 0.6985903301595152})"
            ]
          },
          "metadata": {},
          "execution_count": 51
        }
      ],
      "id": "IC_Sny0egHpq"
    },
    {
      "cell_type": "code",
      "source": [
        "preds = model2.predict(test)"
      ],
      "metadata": {
        "id": "vYMGHldMgHps"
      },
      "execution_count": null,
      "outputs": [],
      "id": "vYMGHldMgHps"
    },
    {
      "cell_type": "code",
      "source": [
        "prediction = np.argmax(preds, axis=1)\n",
        "\n",
        "conf=confusion_matrix(test_labels, prediction)"
      ],
      "metadata": {
        "id": "85uTLlhhgHpu"
      },
      "execution_count": null,
      "outputs": [],
      "id": "85uTLlhhgHpu"
    },
    {
      "cell_type": "code",
      "source": [
        "ax = sns.heatmap(conf, annot=True, fmt='d', cmap='Blues', vmax = 81) \n",
        "ax.set(xlabel='Predicted Label',\n",
        "       ylabel='True label');"
      ],
      "metadata": {
        "colab": {
          "base_uri": "https://localhost:8080/",
          "height": 281
        },
        "outputId": "1d7235dd-2fc6-43d6-c028-a4377f5dde5e",
        "id": "9wOK885-gHpv"
      },
      "execution_count": null,
      "outputs": [
        {
          "output_type": "display_data",
          "data": {
            "text/plain": [
              "<Figure size 432x288 with 2 Axes>"
            ],
            "image/png": "[encoded data removed]"
          },
          "metadata": {
            "needs_background": "light"
          }
        }
      ],
      "id": "9wOK885-gHpv"
    },
    {
      "cell_type": "markdown",
      "source": [
        "Third model."
      ],
      "metadata": {
        "id": "K9e2ZAlmSNkW"
      },
      "id": "K9e2ZAlmSNkW"
    },
    {
      "cell_type": "code",
      "source": [
        "model3_test_metrics = calculate_eval_metrics(model3, test, test_labels)\n",
        "model3_val_metrics = calculate_eval_metrics(model3, val, val_labels)\n",
        "model3_train_metrics = calculate_eval_metrics(model3, train_no_aug, train_labels)"
      ],
      "metadata": {
        "id": "PsQZ5MLS4e1Y"
      },
      "execution_count": null,
      "outputs": [],
      "id": "PsQZ5MLS4e1Y"
    },
    {
      "cell_type": "code",
      "source": [
        "model3_test_metrics, model3_val_metrics, model3_train_metrics"
      ],
      "metadata": {
        "colab": {
          "base_uri": "https://localhost:8080/"
        },
        "outputId": "51725fa6-acef-44e4-a077-14b7f09463e7",
        "id": "2WB7VEdl4e1j"
      },
      "execution_count": null,
      "outputs": [
        {
          "output_type": "execute_result",
          "data": {
            "text/plain": [
              "({'accuracy': 0.8310657596371882,\n",
              "  'balanced_accuracy': 0.8142557360875566,\n",
              "  'f1': 0.831000023109013,\n",
              "  'f1_0': 0.899492385786802,\n",
              "  'f1_1': 0.8915662650602408,\n",
              "  'f1_2': 0.8649405178446465,\n",
              "  'f1_3': 0.7925311203319502,\n",
              "  'f1_4': 0.7903525046382189,\n",
              "  'f1_5': 0.826086956521739,\n",
              "  'f1_6': 0.7568075117370893,\n",
              "  'f1_7': 0.7641509433962264,\n",
              "  'precision': 0.8350289456856186,\n",
              "  'precision_0': 0.899492385786802,\n",
              "  'precision_1': 0.8915662650602408,\n",
              "  'precision_2': 0.8649405178446465,\n",
              "  'precision_3': 0.7925311203319502,\n",
              "  'precision_4': 0.7903525046382189,\n",
              "  'precision_5': 0.826086956521739,\n",
              "  'precision_6': 0.7568075117370893,\n",
              "  'precision_7': 0.7641509433962264,\n",
              "  'recall': 0.8310657596371882,\n",
              "  'recall_0': 0.899492385786802,\n",
              "  'recall_1': 0.8915662650602408,\n",
              "  'recall_2': 0.8649405178446465,\n",
              "  'recall_3': 0.7925311203319502,\n",
              "  'recall_4': 0.7903525046382189,\n",
              "  'recall_5': 0.826086956521739,\n",
              "  'recall_6': 0.7568075117370893,\n",
              "  'recall_7': 0.7641509433962264,\n",
              "  'top_2': 0.9421768707482994,\n",
              "  'top_3': 0.9727891156462585},\n",
              " {'accuracy': 0.8201246660730187,\n",
              "  'balanced_accuracy': 0.7964776584442796,\n",
              "  'f1': 0.8199246776488072,\n",
              "  'f1_0': 0.8844621513944224,\n",
              "  'f1_1': 0.8785607196401799,\n",
              "  'f1_2': 0.8499641062455132,\n",
              "  'f1_3': 0.7154046997389034,\n",
              "  'f1_4': 0.8036809815950918,\n",
              "  'f1_5': 0.8436944937833037,\n",
              "  'f1_6': 0.7131147540983606,\n",
              "  'f1_7': 0.7677725118483413,\n",
              "  'precision': 0.8235890621466687,\n",
              "  'precision_0': 0.8844621513944224,\n",
              "  'precision_1': 0.8785607196401799,\n",
              "  'precision_2': 0.8499641062455132,\n",
              "  'precision_3': 0.7154046997389034,\n",
              "  'precision_4': 0.8036809815950918,\n",
              "  'precision_5': 0.8436944937833037,\n",
              "  'precision_6': 0.7131147540983606,\n",
              "  'precision_7': 0.7677725118483413,\n",
              "  'recall': 0.8201246660730187,\n",
              "  'recall_0': 0.8844621513944224,\n",
              "  'recall_1': 0.8785607196401799,\n",
              "  'recall_2': 0.8499641062455132,\n",
              "  'recall_3': 0.7154046997389034,\n",
              "  'recall_4': 0.8036809815950918,\n",
              "  'recall_5': 0.8436944937833037,\n",
              "  'recall_6': 0.7131147540983606,\n",
              "  'recall_7': 0.7677725118483413,\n",
              "  'top_2': 0.9329177797566043,\n",
              "  'top_3': 0.9679430097951914},\n",
              " {'accuracy': 0.8253987881785582,\n",
              "  'balanced_accuracy': 0.8138860198281115,\n",
              "  'f1': 0.8252872078238884,\n",
              "  'f1_0': 0.8767249310027598,\n",
              "  'f1_1': 0.8960964408725602,\n",
              "  'f1_2': 0.8538253539048831,\n",
              "  'f1_3': 0.7754385964912281,\n",
              "  'f1_4': 0.8080065359477125,\n",
              "  'f1_5': 0.8347219531098624,\n",
              "  'f1_6': 0.7314356435643564,\n",
              "  'f1_7': 0.78544061302682,\n",
              "  'precision': 0.8272820715986059,\n",
              "  'precision_0': 0.8767249310027598,\n",
              "  'precision_1': 0.8960964408725602,\n",
              "  'precision_2': 0.8538253539048831,\n",
              "  'precision_3': 0.7754385964912281,\n",
              "  'precision_4': 0.8080065359477125,\n",
              "  'precision_5': 0.8347219531098624,\n",
              "  'precision_6': 0.7314356435643564,\n",
              "  'precision_7': 0.78544061302682,\n",
              "  'recall': 0.8253987881785582,\n",
              "  'recall_0': 0.8767249310027598,\n",
              "  'recall_1': 0.8960964408725602,\n",
              "  'recall_2': 0.8538253539048831,\n",
              "  'recall_3': 0.7754385964912281,\n",
              "  'recall_4': 0.8080065359477125,\n",
              "  'recall_5': 0.8347219531098624,\n",
              "  'recall_6': 0.7314356435643564,\n",
              "  'recall_7': 0.78544061302682,\n",
              "  'top_2': 0.93477185606529,\n",
              "  'top_3': 0.9717447755657228})"
            ]
          },
          "metadata": {},
          "execution_count": 77
        }
      ],
      "id": "2WB7VEdl4e1j"
    },
    {
      "cell_type": "code",
      "source": [
        "preds = model3.predict(test)"
      ],
      "metadata": {
        "id": "cvuNvj5L5oA7"
      },
      "id": "cvuNvj5L5oA7",
      "execution_count": null,
      "outputs": []
    },
    {
      "cell_type": "code",
      "source": [
        "prediction = np.argmax(preds, axis=1)\n",
        "\n",
        "conf=confusion_matrix(test_labels, prediction)"
      ],
      "metadata": {
        "id": "RpXDijM1gcsH"
      },
      "execution_count": null,
      "outputs": [],
      "id": "RpXDijM1gcsH"
    },
    {
      "cell_type": "code",
      "source": [
        "ax = sns.heatmap(conf, annot=True, fmt='d', cmap='Blues', vmax = 81) \n",
        "ax.set(xlabel='Predicted Label',\n",
        "       ylabel='True label');"
      ],
      "metadata": {
        "colab": {
          "base_uri": "https://localhost:8080/",
          "height": 281
        },
        "outputId": "39d4cd4e-ee4d-4a65-a72b-107052c60856",
        "id": "t8od3ubGgcsL"
      },
      "execution_count": null,
      "outputs": [
        {
          "output_type": "display_data",
          "data": {
            "text/plain": [
              "<Figure size 432x288 with 2 Axes>"
            ],
            "image/png": "[encoded data removed]"
          },
          "metadata": {
            "needs_background": "light"
          }
        }
      ],
      "id": "t8od3ubGgcsL"
    }
  ],
  "metadata": {
    "kernelspec": {
      "display_name": "Python 3",
      "language": "python",
      "name": "python3"
    },
    "language_info": {
      "codemirror_mode": {
        "name": "ipython",
        "version": 3
      },
      "file_extension": ".py",
      "mimetype": "text/x-python",
      "name": "python",
      "nbconvert_exporter": "python",
      "pygments_lexer": "ipython3",
      "version": "3.8.5"
    },
    "colab": {
      "name": "final.ipynb",
      "provenance": [],
      "collapsed_sections": [],
      "toc_visible": true
    },
    "accelerator": "GPU"
  },
  "nbformat": 4,
  "nbformat_minor": 5
}